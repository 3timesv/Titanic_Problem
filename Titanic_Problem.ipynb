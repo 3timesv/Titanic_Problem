{
  "nbformat": 4,
  "nbformat_minor": 0,
  "metadata": {
    "colab": {
      "name": "Titanic_Problem.ipynb",
      "version": "0.3.2",
      "provenance": [],
      "collapsed_sections": [],
      "include_colab_link": true
    },
    "language_info": {
      "codemirror_mode": {
        "name": "ipython",
        "version": 3
      },
      "file_extension": ".py",
      "mimetype": "text/x-python",
      "name": "python",
      "nbconvert_exporter": "python",
      "pygments_lexer": "ipython3",
      "version": "3.7.1"
    },
    "kernelspec": {
      "name": "python3",
      "display_name": "Python 3"
    },
    "accelerator": "GPU"
  },
  "cells": [
    {
      "cell_type": "markdown",
      "metadata": {
        "id": "view-in-github",
        "colab_type": "text"
      },
      "source": [
        "<a href=\"https://colab.research.google.com/github/vivekverma1019/Titanic_Problem/blob/master/Titanic_Problem.ipynb\" target=\"_parent\"><img src=\"https://colab.research.google.com/assets/colab-badge.svg\" alt=\"Open In Colab\"/></a>"
      ]
    },
    {
      "metadata": {
        "id": "cCxXmO73KNzy",
        "colab_type": "text"
      },
      "cell_type": "markdown",
      "source": [
        "### Look At the Big Picture\n",
        "* **Goal : ** Predict if a passenger survived the sinking of the Titanic or not *(Classification Task)*\n",
        "* **Performance Measure : ** F1 Score\n"
      ]
    },
    {
      "metadata": {
        "id": "7aSZi08tNptE",
        "colab_type": "code",
        "colab": {}
      },
      "cell_type": "code",
      "source": [
        ""
      ],
      "execution_count": 0,
      "outputs": []
    },
    {
      "metadata": {
        "id": "hhZ4lQrOLkBn",
        "colab_type": "text"
      },
      "cell_type": "markdown",
      "source": [
        "### Get the Data"
      ]
    },
    {
      "metadata": {
        "id": "ucM6GMaYxDG4",
        "colab_type": "code",
        "outputId": "b1e488e1-9107-4b02-ce08-81cf5b4bc1ed",
        "colab": {
          "resources": {
            "http://localhost:8080/nbextensions/google.colab/files.js": {
              "data": "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",
              "ok": true,
              "headers": [
                [
                  "content-type",
                  "application/javascript"
                ]
              ],
              "status": 200,
              "status_text": ""
            }
          },
          "base_uri": "https://localhost:8080/",
          "height": 74
        }
      },
      "cell_type": "code",
      "source": [
        "from google.colab import files\n",
        "test = files.upload()"
      ],
      "execution_count": 0,
      "outputs": [
        {
          "output_type": "display_data",
          "data": {
            "text/html": [
              "\n",
              "     <input type=\"file\" id=\"files-9d7ef8e4-10d3-406c-a89f-7a72cdbea2d1\" name=\"files[]\" multiple disabled />\n",
              "     <output id=\"result-9d7ef8e4-10d3-406c-a89f-7a72cdbea2d1\">\n",
              "      Upload widget is only available when the cell has been executed in the\n",
              "      current browser session. Please rerun this cell to enable.\n",
              "      </output>\n",
              "      <script src=\"/nbextensions/google.colab/files.js\"></script> "
            ],
            "text/plain": [
              "<IPython.core.display.HTML object>"
            ]
          },
          "metadata": {
            "tags": []
          }
        },
        {
          "output_type": "stream",
          "text": [
            "Saving test.csv to test.csv\n"
          ],
          "name": "stdout"
        }
      ]
    },
    {
      "metadata": {
        "id": "6b5KGy9OwrZK",
        "colab_type": "code",
        "colab": {}
      },
      "cell_type": "code",
      "source": [
        "# Importing essential libraries\n",
        "import matplotlib.pyplot as plt\n",
        "import numpy as np\n",
        "import pandas as pd\n",
        "import seaborn as sns\n",
        "import statsmodels.api as sm\n",
        "%matplotlib inline\n",
        "import warnings\n",
        "warnings.filterwarnings(\"ignore\")"
      ],
      "execution_count": 0,
      "outputs": []
    },
    {
      "metadata": {
        "id": "cpCWU0Hh730q",
        "colab_type": "code",
        "colab": {}
      },
      "cell_type": "code",
      "source": [
        ""
      ],
      "execution_count": 0,
      "outputs": []
    },
    {
      "metadata": {
        "id": "qZWXuve4wrZQ",
        "colab_type": "code",
        "outputId": "71b6ddf9-e92f-43ff-aa0c-74d0b79f2bfd",
        "colab": {
          "base_uri": "https://localhost:8080/",
          "height": 340
        }
      },
      "cell_type": "code",
      "source": [
        "# import dataset\n",
        "df_train =  pd.read_csv('https://raw.githubusercontent.com/vivekverma1019/Titanic_Problem/master/train.csv')\n",
        "df_test = pd.read_csv('test.csv')\n",
        "df_train.head()"
      ],
      "execution_count": 0,
      "outputs": [
        {
          "output_type": "execute_result",
          "data": {
            "text/html": [
              "<div>\n",
              "<style scoped>\n",
              "    .dataframe tbody tr th:only-of-type {\n",
              "        vertical-align: middle;\n",
              "    }\n",
              "\n",
              "    .dataframe tbody tr th {\n",
              "        vertical-align: top;\n",
              "    }\n",
              "\n",
              "    .dataframe thead th {\n",
              "        text-align: right;\n",
              "    }\n",
              "</style>\n",
              "<table border=\"1\" class=\"dataframe\">\n",
              "  <thead>\n",
              "    <tr style=\"text-align: right;\">\n",
              "      <th></th>\n",
              "      <th>PassengerId</th>\n",
              "      <th>Survived</th>\n",
              "      <th>Pclass</th>\n",
              "      <th>Name</th>\n",
              "      <th>Sex</th>\n",
              "      <th>Age</th>\n",
              "      <th>SibSp</th>\n",
              "      <th>Parch</th>\n",
              "      <th>Ticket</th>\n",
              "      <th>Fare</th>\n",
              "      <th>Cabin</th>\n",
              "      <th>Embarked</th>\n",
              "    </tr>\n",
              "  </thead>\n",
              "  <tbody>\n",
              "    <tr>\n",
              "      <th>0</th>\n",
              "      <td>1</td>\n",
              "      <td>0</td>\n",
              "      <td>3</td>\n",
              "      <td>Braund, Mr. Owen Harris</td>\n",
              "      <td>male</td>\n",
              "      <td>22.0</td>\n",
              "      <td>1</td>\n",
              "      <td>0</td>\n",
              "      <td>A/5 21171</td>\n",
              "      <td>7.2500</td>\n",
              "      <td>NaN</td>\n",
              "      <td>S</td>\n",
              "    </tr>\n",
              "    <tr>\n",
              "      <th>1</th>\n",
              "      <td>2</td>\n",
              "      <td>1</td>\n",
              "      <td>1</td>\n",
              "      <td>Cumings, Mrs. John Bradley (Florence Briggs Th...</td>\n",
              "      <td>female</td>\n",
              "      <td>38.0</td>\n",
              "      <td>1</td>\n",
              "      <td>0</td>\n",
              "      <td>PC 17599</td>\n",
              "      <td>71.2833</td>\n",
              "      <td>C85</td>\n",
              "      <td>C</td>\n",
              "    </tr>\n",
              "    <tr>\n",
              "      <th>2</th>\n",
              "      <td>3</td>\n",
              "      <td>1</td>\n",
              "      <td>3</td>\n",
              "      <td>Heikkinen, Miss. Laina</td>\n",
              "      <td>female</td>\n",
              "      <td>26.0</td>\n",
              "      <td>0</td>\n",
              "      <td>0</td>\n",
              "      <td>STON/O2. 3101282</td>\n",
              "      <td>7.9250</td>\n",
              "      <td>NaN</td>\n",
              "      <td>S</td>\n",
              "    </tr>\n",
              "    <tr>\n",
              "      <th>3</th>\n",
              "      <td>4</td>\n",
              "      <td>1</td>\n",
              "      <td>1</td>\n",
              "      <td>Futrelle, Mrs. Jacques Heath (Lily May Peel)</td>\n",
              "      <td>female</td>\n",
              "      <td>35.0</td>\n",
              "      <td>1</td>\n",
              "      <td>0</td>\n",
              "      <td>113803</td>\n",
              "      <td>53.1000</td>\n",
              "      <td>C123</td>\n",
              "      <td>S</td>\n",
              "    </tr>\n",
              "    <tr>\n",
              "      <th>4</th>\n",
              "      <td>5</td>\n",
              "      <td>0</td>\n",
              "      <td>3</td>\n",
              "      <td>Allen, Mr. William Henry</td>\n",
              "      <td>male</td>\n",
              "      <td>35.0</td>\n",
              "      <td>0</td>\n",
              "      <td>0</td>\n",
              "      <td>373450</td>\n",
              "      <td>8.0500</td>\n",
              "      <td>NaN</td>\n",
              "      <td>S</td>\n",
              "    </tr>\n",
              "  </tbody>\n",
              "</table>\n",
              "</div>"
            ],
            "text/plain": [
              "   PassengerId  Survived  Pclass  \\\n",
              "0            1         0       3   \n",
              "1            2         1       1   \n",
              "2            3         1       3   \n",
              "3            4         1       1   \n",
              "4            5         0       3   \n",
              "\n",
              "                                                Name     Sex   Age  SibSp  \\\n",
              "0                            Braund, Mr. Owen Harris    male  22.0      1   \n",
              "1  Cumings, Mrs. John Bradley (Florence Briggs Th...  female  38.0      1   \n",
              "2                             Heikkinen, Miss. Laina  female  26.0      0   \n",
              "3       Futrelle, Mrs. Jacques Heath (Lily May Peel)  female  35.0      1   \n",
              "4                           Allen, Mr. William Henry    male  35.0      0   \n",
              "\n",
              "   Parch            Ticket     Fare Cabin Embarked  \n",
              "0      0         A/5 21171   7.2500   NaN        S  \n",
              "1      0          PC 17599  71.2833   C85        C  \n",
              "2      0  STON/O2. 3101282   7.9250   NaN        S  \n",
              "3      0            113803  53.1000  C123        S  \n",
              "4      0            373450   8.0500   NaN        S  "
            ]
          },
          "metadata": {
            "tags": []
          },
          "execution_count": 175
        }
      ]
    },
    {
      "metadata": {
        "id": "4fb27Taezb43",
        "colab_type": "code",
        "outputId": "c4ca77c5-763c-49a2-eceb-d3182c6c39c2",
        "colab": {
          "base_uri": "https://localhost:8080/",
          "height": 238
        }
      },
      "cell_type": "code",
      "source": [
        "df_test.head()"
      ],
      "execution_count": 0,
      "outputs": [
        {
          "output_type": "execute_result",
          "data": {
            "text/html": [
              "<div>\n",
              "<style scoped>\n",
              "    .dataframe tbody tr th:only-of-type {\n",
              "        vertical-align: middle;\n",
              "    }\n",
              "\n",
              "    .dataframe tbody tr th {\n",
              "        vertical-align: top;\n",
              "    }\n",
              "\n",
              "    .dataframe thead th {\n",
              "        text-align: right;\n",
              "    }\n",
              "</style>\n",
              "<table border=\"1\" class=\"dataframe\">\n",
              "  <thead>\n",
              "    <tr style=\"text-align: right;\">\n",
              "      <th></th>\n",
              "      <th>PassengerId</th>\n",
              "      <th>Pclass</th>\n",
              "      <th>Name</th>\n",
              "      <th>Sex</th>\n",
              "      <th>Age</th>\n",
              "      <th>SibSp</th>\n",
              "      <th>Parch</th>\n",
              "      <th>Ticket</th>\n",
              "      <th>Fare</th>\n",
              "      <th>Cabin</th>\n",
              "      <th>Embarked</th>\n",
              "    </tr>\n",
              "  </thead>\n",
              "  <tbody>\n",
              "    <tr>\n",
              "      <th>0</th>\n",
              "      <td>892</td>\n",
              "      <td>3</td>\n",
              "      <td>Kelly, Mr. James</td>\n",
              "      <td>male</td>\n",
              "      <td>34.5</td>\n",
              "      <td>0</td>\n",
              "      <td>0</td>\n",
              "      <td>330911</td>\n",
              "      <td>7.8292</td>\n",
              "      <td>NaN</td>\n",
              "      <td>Q</td>\n",
              "    </tr>\n",
              "    <tr>\n",
              "      <th>1</th>\n",
              "      <td>893</td>\n",
              "      <td>3</td>\n",
              "      <td>Wilkes, Mrs. James (Ellen Needs)</td>\n",
              "      <td>female</td>\n",
              "      <td>47.0</td>\n",
              "      <td>1</td>\n",
              "      <td>0</td>\n",
              "      <td>363272</td>\n",
              "      <td>7.0000</td>\n",
              "      <td>NaN</td>\n",
              "      <td>S</td>\n",
              "    </tr>\n",
              "    <tr>\n",
              "      <th>2</th>\n",
              "      <td>894</td>\n",
              "      <td>2</td>\n",
              "      <td>Myles, Mr. Thomas Francis</td>\n",
              "      <td>male</td>\n",
              "      <td>62.0</td>\n",
              "      <td>0</td>\n",
              "      <td>0</td>\n",
              "      <td>240276</td>\n",
              "      <td>9.6875</td>\n",
              "      <td>NaN</td>\n",
              "      <td>Q</td>\n",
              "    </tr>\n",
              "    <tr>\n",
              "      <th>3</th>\n",
              "      <td>895</td>\n",
              "      <td>3</td>\n",
              "      <td>Wirz, Mr. Albert</td>\n",
              "      <td>male</td>\n",
              "      <td>27.0</td>\n",
              "      <td>0</td>\n",
              "      <td>0</td>\n",
              "      <td>315154</td>\n",
              "      <td>8.6625</td>\n",
              "      <td>NaN</td>\n",
              "      <td>S</td>\n",
              "    </tr>\n",
              "    <tr>\n",
              "      <th>4</th>\n",
              "      <td>896</td>\n",
              "      <td>3</td>\n",
              "      <td>Hirvonen, Mrs. Alexander (Helga E Lindqvist)</td>\n",
              "      <td>female</td>\n",
              "      <td>22.0</td>\n",
              "      <td>1</td>\n",
              "      <td>1</td>\n",
              "      <td>3101298</td>\n",
              "      <td>12.2875</td>\n",
              "      <td>NaN</td>\n",
              "      <td>S</td>\n",
              "    </tr>\n",
              "  </tbody>\n",
              "</table>\n",
              "</div>"
            ],
            "text/plain": [
              "   PassengerId  Pclass                                          Name     Sex  \\\n",
              "0          892       3                              Kelly, Mr. James    male   \n",
              "1          893       3              Wilkes, Mrs. James (Ellen Needs)  female   \n",
              "2          894       2                     Myles, Mr. Thomas Francis    male   \n",
              "3          895       3                              Wirz, Mr. Albert    male   \n",
              "4          896       3  Hirvonen, Mrs. Alexander (Helga E Lindqvist)  female   \n",
              "\n",
              "    Age  SibSp  Parch   Ticket     Fare Cabin Embarked  \n",
              "0  34.5      0      0   330911   7.8292   NaN        Q  \n",
              "1  47.0      1      0   363272   7.0000   NaN        S  \n",
              "2  62.0      0      0   240276   9.6875   NaN        Q  \n",
              "3  27.0      0      0   315154   8.6625   NaN        S  \n",
              "4  22.0      1      1  3101298  12.2875   NaN        S  "
            ]
          },
          "metadata": {
            "tags": []
          },
          "execution_count": 176
        }
      ]
    },
    {
      "metadata": {
        "id": "7OAcsvStwrZd",
        "colab_type": "text"
      },
      "cell_type": "markdown",
      "source": [
        "### Discover and Visualise the Data\n",
        "\n",
        "\n"
      ]
    },
    {
      "metadata": {
        "id": "mmSBZf6KwrZf",
        "colab_type": "code",
        "outputId": "c0d3408d-1b5e-4988-f790-05630c69e08e",
        "colab": {
          "base_uri": "https://localhost:8080/",
          "height": 306
        }
      },
      "cell_type": "code",
      "source": [
        "df_train.info()"
      ],
      "execution_count": 0,
      "outputs": [
        {
          "output_type": "stream",
          "text": [
            "<class 'pandas.core.frame.DataFrame'>\n",
            "RangeIndex: 891 entries, 0 to 890\n",
            "Data columns (total 12 columns):\n",
            "PassengerId    891 non-null int64\n",
            "Survived       891 non-null int64\n",
            "Pclass         891 non-null int64\n",
            "Name           891 non-null object\n",
            "Sex            891 non-null object\n",
            "Age            714 non-null float64\n",
            "SibSp          891 non-null int64\n",
            "Parch          891 non-null int64\n",
            "Ticket         891 non-null object\n",
            "Fare           891 non-null float64\n",
            "Cabin          204 non-null object\n",
            "Embarked       891 non-null object\n",
            "dtypes: float64(2), int64(5), object(5)\n",
            "memory usage: 83.6+ KB\n"
          ],
          "name": "stdout"
        }
      ]
    },
    {
      "metadata": {
        "id": "3EmUqvr90WiF",
        "colab_type": "code",
        "outputId": "5c0ee7ea-42d0-4bc2-8ce1-6f27c91ae7a3",
        "colab": {
          "base_uri": "https://localhost:8080/",
          "height": 289
        }
      },
      "cell_type": "code",
      "source": [
        "df_test.info()"
      ],
      "execution_count": 0,
      "outputs": [
        {
          "output_type": "stream",
          "text": [
            "<class 'pandas.core.frame.DataFrame'>\n",
            "RangeIndex: 418 entries, 0 to 417\n",
            "Data columns (total 11 columns):\n",
            "PassengerId    418 non-null int64\n",
            "Pclass         418 non-null int64\n",
            "Name           418 non-null object\n",
            "Sex            418 non-null object\n",
            "Age            332 non-null float64\n",
            "SibSp          418 non-null int64\n",
            "Parch          418 non-null int64\n",
            "Ticket         418 non-null object\n",
            "Fare           417 non-null float64\n",
            "Cabin          91 non-null object\n",
            "Embarked       418 non-null object\n",
            "dtypes: float64(2), int64(4), object(5)\n",
            "memory usage: 36.0+ KB\n"
          ],
          "name": "stdout"
        }
      ]
    },
    {
      "metadata": {
        "id": "F20FsJFzwrZn",
        "colab_type": "text"
      },
      "cell_type": "markdown",
      "source": [
        "Embarked and Age have missing values"
      ]
    },
    {
      "metadata": {
        "id": "KRHl-mw5wrZp",
        "colab_type": "code",
        "colab": {}
      },
      "cell_type": "code",
      "source": [
        "# Separating Categorical and Quantitative\n",
        "df_train_cat = df_train[['Survived','Pclass','Sex','SibSp','Parch','Embarked']]\n",
        "df_train_quant = df_train[['Age','Fare']]"
      ],
      "execution_count": 0,
      "outputs": []
    },
    {
      "metadata": {
        "id": "kVPMeK-nPrDM",
        "colab_type": "code",
        "outputId": "703f8f55-58fb-4662-9857-915993ec3f7f",
        "colab": {
          "base_uri": "https://localhost:8080/",
          "height": 527
        }
      },
      "cell_type": "code",
      "source": [
        "# A glance at Categorical vars.\n",
        "for var in ['Survived','Pclass','Sex','SibSp','Parch','Embarked']:\n",
        "  print(df_train_cat[var].value_counts())"
      ],
      "execution_count": 0,
      "outputs": [
        {
          "output_type": "stream",
          "text": [
            "0    549\n",
            "1    342\n",
            "Name: Survived, dtype: int64\n",
            "3    491\n",
            "1    216\n",
            "2    184\n",
            "Name: Pclass, dtype: int64\n",
            "male      577\n",
            "female    314\n",
            "Name: Sex, dtype: int64\n",
            "0    608\n",
            "1    209\n",
            "2     28\n",
            "4     18\n",
            "3     16\n",
            "8      7\n",
            "5      5\n",
            "Name: SibSp, dtype: int64\n",
            "0    678\n",
            "1    118\n",
            "2     80\n",
            "5      5\n",
            "3      5\n",
            "4      4\n",
            "6      1\n",
            "Name: Parch, dtype: int64\n",
            "S    645\n",
            "C    169\n",
            "Q     77\n",
            "Name: Embarked, dtype: int64\n"
          ],
          "name": "stdout"
        }
      ]
    },
    {
      "metadata": {
        "id": "G4wIsintwrZv",
        "colab_type": "code",
        "outputId": "e2502c67-87c2-43c7-c29c-26ff46ca0c36",
        "colab": {
          "base_uri": "https://localhost:8080/",
          "height": 297
        }
      },
      "cell_type": "code",
      "source": [
        "# glance at quant. vars.\n",
        "df_train_quant.describe()"
      ],
      "execution_count": 0,
      "outputs": [
        {
          "output_type": "execute_result",
          "data": {
            "text/html": [
              "<div>\n",
              "<style scoped>\n",
              "    .dataframe tbody tr th:only-of-type {\n",
              "        vertical-align: middle;\n",
              "    }\n",
              "\n",
              "    .dataframe tbody tr th {\n",
              "        vertical-align: top;\n",
              "    }\n",
              "\n",
              "    .dataframe thead th {\n",
              "        text-align: right;\n",
              "    }\n",
              "</style>\n",
              "<table border=\"1\" class=\"dataframe\">\n",
              "  <thead>\n",
              "    <tr style=\"text-align: right;\">\n",
              "      <th></th>\n",
              "      <th>Age</th>\n",
              "      <th>Fare</th>\n",
              "    </tr>\n",
              "  </thead>\n",
              "  <tbody>\n",
              "    <tr>\n",
              "      <th>count</th>\n",
              "      <td>714.000000</td>\n",
              "      <td>891.000000</td>\n",
              "    </tr>\n",
              "    <tr>\n",
              "      <th>mean</th>\n",
              "      <td>29.699118</td>\n",
              "      <td>32.204208</td>\n",
              "    </tr>\n",
              "    <tr>\n",
              "      <th>std</th>\n",
              "      <td>14.526497</td>\n",
              "      <td>49.693429</td>\n",
              "    </tr>\n",
              "    <tr>\n",
              "      <th>min</th>\n",
              "      <td>0.420000</td>\n",
              "      <td>0.000000</td>\n",
              "    </tr>\n",
              "    <tr>\n",
              "      <th>25%</th>\n",
              "      <td>20.125000</td>\n",
              "      <td>7.910400</td>\n",
              "    </tr>\n",
              "    <tr>\n",
              "      <th>50%</th>\n",
              "      <td>28.000000</td>\n",
              "      <td>14.454200</td>\n",
              "    </tr>\n",
              "    <tr>\n",
              "      <th>75%</th>\n",
              "      <td>38.000000</td>\n",
              "      <td>31.000000</td>\n",
              "    </tr>\n",
              "    <tr>\n",
              "      <th>max</th>\n",
              "      <td>80.000000</td>\n",
              "      <td>512.329200</td>\n",
              "    </tr>\n",
              "  </tbody>\n",
              "</table>\n",
              "</div>"
            ],
            "text/plain": [
              "              Age        Fare\n",
              "count  714.000000  891.000000\n",
              "mean    29.699118   32.204208\n",
              "std     14.526497   49.693429\n",
              "min      0.420000    0.000000\n",
              "25%     20.125000    7.910400\n",
              "50%     28.000000   14.454200\n",
              "75%     38.000000   31.000000\n",
              "max     80.000000  512.329200"
            ]
          },
          "metadata": {
            "tags": []
          },
          "execution_count": 181
        }
      ]
    },
    {
      "metadata": {
        "id": "8iS4F6bgwrZ2",
        "colab_type": "code",
        "outputId": "9dbff6e8-0ae4-458a-dfe4-379e0fd595af",
        "colab": {
          "base_uri": "https://localhost:8080/",
          "height": 675
        }
      },
      "cell_type": "code",
      "source": [
        "# Plotting Quant. vars.\n",
        "fig_quant,ax_quant = plt.subplots(2,3,figsize=(19,10))   # Creating fig object\n",
        "# Set titles\n",
        "ax_quant[0,0].set_title('Age_Box')             \n",
        "ax_quant[0,1].set_title('Age_Hist')\n",
        "ax_quant[1,0].set_title('Fare_Box')\n",
        "ax_quant[1,1].set_title('Fare_Hist')\n",
        "ax_quant[0,2].set_title('Age_with_Survived')\n",
        "ax_quant[1,2].set_title('Fare_with_Survived')\n",
        "# boxplots\n",
        "sns.boxplot(y=['Age'],data=df_train_quant,ax=ax_quant[0,0],color='orange')\n",
        "sns.boxplot(y=['Fare'],data=df_train_quant,ax=ax_quant[1,0],color='pink')\n",
        "# Histograms \n",
        "sns.distplot(a=df_train_quant['Age'].dropna(),ax=ax_quant[0,1],hist_kws=dict(edgecolor=\"k\", linewidth=1),bins=30)\n",
        "sns.distplot(a=df_train_quant['Fare'],ax=ax_quant[1,1],hist_kws=dict(edgecolor=\"k\", linewidth=1))\n",
        "# Quant vars. with D.V.\n",
        "[sns.distplot(a=df_train_quant[df_train_cat['Survived']==x]['Age'].dropna(),ax=ax_quant[0,2],hist=False,label='Survived' if x==1 else 'Dead') for x in [0,1]]\n",
        "[sns.distplot(a=df_train_quant[df_train_cat['Survived']==y]['Fare'].dropna(),ax=ax_quant[1,2],hist=False,label='Survived' if y==1 else 'Dead') for y in [0,1]]\n"
      ],
      "execution_count": 0,
      "outputs": [
        {
          "output_type": "execute_result",
          "data": {
            "text/plain": [
              "[<matplotlib.axes._subplots.AxesSubplot at 0x7f543168a240>,\n",
              " <matplotlib.axes._subplots.AxesSubplot at 0x7f543168a240>]"
            ]
          },
          "metadata": {
            "tags": []
          },
          "execution_count": 182
        },
        {
          "output_type": "display_data",
          "data": {
            "image/png": "[encoded data removed]",
            "text/plain": [
              "<Figure size 1368x720 with 6 Axes>"
            ]
          },
          "metadata": {
            "tags": []
          }
        }
      ]
    },
    {
      "metadata": {
        "id": "7uYIXzUf60S_",
        "colab_type": "code",
        "outputId": "1f1c5ad2-2688-4689-9436-7e4ff1a1b572",
        "colab": {
          "base_uri": "https://localhost:8080/",
          "height": 119
        }
      },
      "cell_type": "code",
      "source": [
        "# Check Name Column\n",
        "df_train['Name'].head()"
      ],
      "execution_count": 0,
      "outputs": [
        {
          "output_type": "execute_result",
          "data": {
            "text/plain": [
              "0                              Braund, Mr. Owen Harris\n",
              "1    Cumings, Mrs. John Bradley (Florence Briggs Th...\n",
              "2                               Heikkinen, Miss. Laina\n",
              "3         Futrelle, Mrs. Jacques Heath (Lily May Peel)\n",
              "4                             Allen, Mr. William Henry\n",
              "Name: Name, dtype: object"
            ]
          },
          "metadata": {
            "tags": []
          },
          "execution_count": 183
        }
      ]
    },
    {
      "metadata": {
        "id": "d97SKhGBwraA",
        "colab_type": "code",
        "outputId": "700d6ebc-17a9-4609-ee53-b11ad71fa571",
        "colab": {
          "base_uri": "https://localhost:8080/",
          "height": 119
        }
      },
      "cell_type": "code",
      "source": [
        "# Extracting Title from Names and store as column in df_train_cat\n",
        "\n",
        "df_train_cat['Name_title'] = df_train['Name'].apply(lambda x:x.split(', ')[1])\n",
        "df_train_cat['Name_title'] = df_train_cat['Name_title'].apply(lambda x:x.split('.')[0])\n",
        "df_train_cat['Name_title'].replace({'Dr':'Combined','Rev':'Combined','Col':'Combined','Mlle':'Combined','Major':'Combined','Capt':'Combined','Sir':'Combined','Don':'Combined','Lady':'Combined','the Countess':'Combined','Ms':'Combined','Mme':'Combined','Jonkheer':'Combined'},inplace=True)\n",
        "df_train_cat['Name_title'].value_counts()"
      ],
      "execution_count": 0,
      "outputs": [
        {
          "output_type": "execute_result",
          "data": {
            "text/plain": [
              "Mr          517\n",
              "Miss        182\n",
              "Mrs         125\n",
              "Master       40\n",
              "Combined     27\n",
              "Name: Name_title, dtype: int64"
            ]
          },
          "metadata": {
            "tags": []
          },
          "execution_count": 184
        }
      ]
    },
    {
      "metadata": {
        "id": "BR9fFfzM2dLi",
        "colab_type": "code",
        "outputId": "152e030c-935a-471b-88f3-c73d1b3f661e",
        "colab": {
          "base_uri": "https://localhost:8080/",
          "height": 119
        }
      },
      "cell_type": "code",
      "source": [
        "df_test['Name_title'] = df_test['Name'].apply(lambda x:x.split(', ')[1])\n",
        "df_test['Name_title'] = df_test['Name_title'].apply(lambda x:x.split('.')[0])\n",
        "df_test['Name_title'].replace({'Dr':'Combined','Rev':'Combined','Col':'Combined','Mlle':'Combined','Major':'Combined','Capt':'Combined','Sir':'Combined','Dona':'Combined','Lady':'Combined','the Countess':'Combined','Ms':'Combined','Mme':'Combined','Jonkheer':'Combined'},inplace=True)\n",
        "df_test['Name_title'].value_counts()"
      ],
      "execution_count": 0,
      "outputs": [
        {
          "output_type": "execute_result",
          "data": {
            "text/plain": [
              "Mr          240\n",
              "Miss         78\n",
              "Mrs          72\n",
              "Master       21\n",
              "Combined      7\n",
              "Name: Name_title, dtype: int64"
            ]
          },
          "metadata": {
            "tags": []
          },
          "execution_count": 185
        }
      ]
    },
    {
      "metadata": {
        "id": "alSkt52I2cM-",
        "colab_type": "text"
      },
      "cell_type": "markdown",
      "source": [
        ""
      ]
    },
    {
      "metadata": {
        "id": "D5Gmwks47Kzx",
        "colab_type": "code",
        "colab": {}
      },
      "cell_type": "code",
      "source": [
        "# Creating New Feature from \"SibSp\" and \"Parch\"\n",
        "df_train_cat['familysize'] = df_train_cat['SibSp'] + df_train_cat['Parch'] + 1"
      ],
      "execution_count": 0,
      "outputs": []
    },
    {
      "metadata": {
        "id": "CUO92Mnr2ypi",
        "colab_type": "code",
        "colab": {}
      },
      "cell_type": "code",
      "source": [
        "df_test['familysize'] = df_test['SibSp'] + df_test['Parch'] + 1"
      ],
      "execution_count": 0,
      "outputs": []
    },
    {
      "metadata": {
        "id": "ZAZI4Mqb8VxC",
        "colab_type": "code",
        "outputId": "1241f23e-6c0c-4a03-c53a-dc03ebf2eb65",
        "colab": {
          "base_uri": "https://localhost:8080/",
          "height": 204
        }
      },
      "cell_type": "code",
      "source": [
        "# Getting Age and Fare as Categorical in df_train_cat\n",
        "df_train_cat['Age_cat'] = pd.cut(df_train_quant['Age'],bins=4) # bins =4 since min is 0 and max is 80 thus dividing 4\n",
        "df_train_cat['Fare_cat'] = pd.cut(df_train_quant['Fare'],bins=5) # bins =5 since min is 0 and max is 512 thus dividing 5\n",
        "df_train_cat.head()"
      ],
      "execution_count": 0,
      "outputs": [
        {
          "output_type": "execute_result",
          "data": {
            "text/html": [
              "<div>\n",
              "<style scoped>\n",
              "    .dataframe tbody tr th:only-of-type {\n",
              "        vertical-align: middle;\n",
              "    }\n",
              "\n",
              "    .dataframe tbody tr th {\n",
              "        vertical-align: top;\n",
              "    }\n",
              "\n",
              "    .dataframe thead th {\n",
              "        text-align: right;\n",
              "    }\n",
              "</style>\n",
              "<table border=\"1\" class=\"dataframe\">\n",
              "  <thead>\n",
              "    <tr style=\"text-align: right;\">\n",
              "      <th></th>\n",
              "      <th>Survived</th>\n",
              "      <th>Pclass</th>\n",
              "      <th>Sex</th>\n",
              "      <th>SibSp</th>\n",
              "      <th>Parch</th>\n",
              "      <th>Embarked</th>\n",
              "      <th>Name_title</th>\n",
              "      <th>familysize</th>\n",
              "      <th>Age_cat</th>\n",
              "      <th>Fare_cat</th>\n",
              "    </tr>\n",
              "  </thead>\n",
              "  <tbody>\n",
              "    <tr>\n",
              "      <th>0</th>\n",
              "      <td>0</td>\n",
              "      <td>3</td>\n",
              "      <td>male</td>\n",
              "      <td>1</td>\n",
              "      <td>0</td>\n",
              "      <td>S</td>\n",
              "      <td>Mr</td>\n",
              "      <td>2</td>\n",
              "      <td>(20.315, 40.21]</td>\n",
              "      <td>(-0.512, 102.466]</td>\n",
              "    </tr>\n",
              "    <tr>\n",
              "      <th>1</th>\n",
              "      <td>1</td>\n",
              "      <td>1</td>\n",
              "      <td>female</td>\n",
              "      <td>1</td>\n",
              "      <td>0</td>\n",
              "      <td>C</td>\n",
              "      <td>Mrs</td>\n",
              "      <td>2</td>\n",
              "      <td>(20.315, 40.21]</td>\n",
              "      <td>(-0.512, 102.466]</td>\n",
              "    </tr>\n",
              "    <tr>\n",
              "      <th>2</th>\n",
              "      <td>1</td>\n",
              "      <td>3</td>\n",
              "      <td>female</td>\n",
              "      <td>0</td>\n",
              "      <td>0</td>\n",
              "      <td>S</td>\n",
              "      <td>Miss</td>\n",
              "      <td>1</td>\n",
              "      <td>(20.315, 40.21]</td>\n",
              "      <td>(-0.512, 102.466]</td>\n",
              "    </tr>\n",
              "    <tr>\n",
              "      <th>3</th>\n",
              "      <td>1</td>\n",
              "      <td>1</td>\n",
              "      <td>female</td>\n",
              "      <td>1</td>\n",
              "      <td>0</td>\n",
              "      <td>S</td>\n",
              "      <td>Mrs</td>\n",
              "      <td>2</td>\n",
              "      <td>(20.315, 40.21]</td>\n",
              "      <td>(-0.512, 102.466]</td>\n",
              "    </tr>\n",
              "    <tr>\n",
              "      <th>4</th>\n",
              "      <td>0</td>\n",
              "      <td>3</td>\n",
              "      <td>male</td>\n",
              "      <td>0</td>\n",
              "      <td>0</td>\n",
              "      <td>S</td>\n",
              "      <td>Mr</td>\n",
              "      <td>1</td>\n",
              "      <td>(20.315, 40.21]</td>\n",
              "      <td>(-0.512, 102.466]</td>\n",
              "    </tr>\n",
              "  </tbody>\n",
              "</table>\n",
              "</div>"
            ],
            "text/plain": [
              "   Survived  Pclass     Sex  SibSp  Parch Embarked Name_title  familysize  \\\n",
              "0         0       3    male      1      0        S         Mr           2   \n",
              "1         1       1  female      1      0        C        Mrs           2   \n",
              "2         1       3  female      0      0        S       Miss           1   \n",
              "3         1       1  female      1      0        S        Mrs           2   \n",
              "4         0       3    male      0      0        S         Mr           1   \n",
              "\n",
              "           Age_cat           Fare_cat  \n",
              "0  (20.315, 40.21]  (-0.512, 102.466]  \n",
              "1  (20.315, 40.21]  (-0.512, 102.466]  \n",
              "2  (20.315, 40.21]  (-0.512, 102.466]  \n",
              "3  (20.315, 40.21]  (-0.512, 102.466]  \n",
              "4  (20.315, 40.21]  (-0.512, 102.466]  "
            ]
          },
          "metadata": {
            "tags": []
          },
          "execution_count": 188
        }
      ]
    },
    {
      "metadata": {
        "id": "HBWcpgLGwraI",
        "colab_type": "code",
        "outputId": "0b1cf015-189d-47e9-afdc-1793c5407c66",
        "colab": {
          "base_uri": "https://localhost:8080/",
          "height": 2169
        }
      },
      "cell_type": "code",
      "source": [
        "# Plotting Categorical Variables\n",
        "listx = list(zip(range(len(df_train_cat.columns)-1),df_train_cat.columns.drop('Survived')))\n",
        "fig_cat,ax_cat = plt.subplots(len(df_train_cat.columns)-1,2,figsize=(12,30))\n",
        "# Countplot\n",
        "for i in range(len(listx)):\n",
        "    sns.countplot(x=listx[i][1],data=df_train_cat,ax=ax_cat[listx[i][0],0],palette=\"ch:.25\")\n",
        "# Countplot with Survived\n",
        "for j in range(len(listx)):\n",
        "    sns.countplot(x=listx[j][1],hue='Survived',data=df_train_cat,ax=ax_cat[listx[j][0],1],palette=\"pastel\")\n",
        "plt.tight_layout()"
      ],
      "execution_count": 0,
      "outputs": [
        {
          "output_type": "display_data",
          "data": {
            "image/png": "[encoded data removed]",
            "text/plain": [
              "<Figure size 864x2160 with 18 Axes>"
            ]
          },
          "metadata": {
            "tags": []
          }
        }
      ]
    },
    {
      "metadata": {
        "id": "v-tTNdYyUL56",
        "colab_type": "code",
        "colab": {}
      },
      "cell_type": "code",
      "source": [
        "# Final Dataframes to train\n",
        "df_train_final = pd.concat([df_train_cat,df_train_quant],axis=1).drop(['Age_cat','Fare_cat'],axis=1) # Quants. as it is"
      ],
      "execution_count": 0,
      "outputs": []
    },
    {
      "metadata": {
        "id": "jziXp-JkOtfV",
        "colab_type": "code",
        "outputId": "3ee16dbe-b8c6-4387-c11f-26a0771665d5",
        "colab": {
          "base_uri": "https://localhost:8080/",
          "height": 204
        }
      },
      "cell_type": "code",
      "source": [
        "df_train_final.head()"
      ],
      "execution_count": 0,
      "outputs": [
        {
          "output_type": "execute_result",
          "data": {
            "text/html": [
              "<div>\n",
              "<style scoped>\n",
              "    .dataframe tbody tr th:only-of-type {\n",
              "        vertical-align: middle;\n",
              "    }\n",
              "\n",
              "    .dataframe tbody tr th {\n",
              "        vertical-align: top;\n",
              "    }\n",
              "\n",
              "    .dataframe thead th {\n",
              "        text-align: right;\n",
              "    }\n",
              "</style>\n",
              "<table border=\"1\" class=\"dataframe\">\n",
              "  <thead>\n",
              "    <tr style=\"text-align: right;\">\n",
              "      <th></th>\n",
              "      <th>Survived</th>\n",
              "      <th>Pclass</th>\n",
              "      <th>Sex</th>\n",
              "      <th>SibSp</th>\n",
              "      <th>Parch</th>\n",
              "      <th>Embarked</th>\n",
              "      <th>Name_title</th>\n",
              "      <th>familysize</th>\n",
              "      <th>Age</th>\n",
              "      <th>Fare</th>\n",
              "    </tr>\n",
              "  </thead>\n",
              "  <tbody>\n",
              "    <tr>\n",
              "      <th>0</th>\n",
              "      <td>0</td>\n",
              "      <td>3</td>\n",
              "      <td>male</td>\n",
              "      <td>1</td>\n",
              "      <td>0</td>\n",
              "      <td>S</td>\n",
              "      <td>Mr</td>\n",
              "      <td>2</td>\n",
              "      <td>22.0</td>\n",
              "      <td>7.2500</td>\n",
              "    </tr>\n",
              "    <tr>\n",
              "      <th>1</th>\n",
              "      <td>1</td>\n",
              "      <td>1</td>\n",
              "      <td>female</td>\n",
              "      <td>1</td>\n",
              "      <td>0</td>\n",
              "      <td>C</td>\n",
              "      <td>Mrs</td>\n",
              "      <td>2</td>\n",
              "      <td>38.0</td>\n",
              "      <td>71.2833</td>\n",
              "    </tr>\n",
              "    <tr>\n",
              "      <th>2</th>\n",
              "      <td>1</td>\n",
              "      <td>3</td>\n",
              "      <td>female</td>\n",
              "      <td>0</td>\n",
              "      <td>0</td>\n",
              "      <td>S</td>\n",
              "      <td>Miss</td>\n",
              "      <td>1</td>\n",
              "      <td>26.0</td>\n",
              "      <td>7.9250</td>\n",
              "    </tr>\n",
              "    <tr>\n",
              "      <th>3</th>\n",
              "      <td>1</td>\n",
              "      <td>1</td>\n",
              "      <td>female</td>\n",
              "      <td>1</td>\n",
              "      <td>0</td>\n",
              "      <td>S</td>\n",
              "      <td>Mrs</td>\n",
              "      <td>2</td>\n",
              "      <td>35.0</td>\n",
              "      <td>53.1000</td>\n",
              "    </tr>\n",
              "    <tr>\n",
              "      <th>4</th>\n",
              "      <td>0</td>\n",
              "      <td>3</td>\n",
              "      <td>male</td>\n",
              "      <td>0</td>\n",
              "      <td>0</td>\n",
              "      <td>S</td>\n",
              "      <td>Mr</td>\n",
              "      <td>1</td>\n",
              "      <td>35.0</td>\n",
              "      <td>8.0500</td>\n",
              "    </tr>\n",
              "  </tbody>\n",
              "</table>\n",
              "</div>"
            ],
            "text/plain": [
              "   Survived  Pclass     Sex  SibSp  Parch Embarked Name_title  familysize  \\\n",
              "0         0       3    male      1      0        S         Mr           2   \n",
              "1         1       1  female      1      0        C        Mrs           2   \n",
              "2         1       3  female      0      0        S       Miss           1   \n",
              "3         1       1  female      1      0        S        Mrs           2   \n",
              "4         0       3    male      0      0        S         Mr           1   \n",
              "\n",
              "    Age     Fare  \n",
              "0  22.0   7.2500  \n",
              "1  38.0  71.2833  \n",
              "2  26.0   7.9250  \n",
              "3  35.0  53.1000  \n",
              "4  35.0   8.0500  "
            ]
          },
          "metadata": {
            "tags": []
          },
          "execution_count": 191
        }
      ]
    },
    {
      "metadata": {
        "id": "N6fn5fYYgpHi",
        "colab_type": "code",
        "outputId": "96f5cdbc-cc5b-47fc-d0b5-d61e90e23722",
        "colab": {
          "base_uri": "https://localhost:8080/",
          "height": 266
        }
      },
      "cell_type": "code",
      "source": [
        "df_train_final.corr()"
      ],
      "execution_count": 0,
      "outputs": [
        {
          "output_type": "execute_result",
          "data": {
            "text/html": [
              "<div>\n",
              "<style scoped>\n",
              "    .dataframe tbody tr th:only-of-type {\n",
              "        vertical-align: middle;\n",
              "    }\n",
              "\n",
              "    .dataframe tbody tr th {\n",
              "        vertical-align: top;\n",
              "    }\n",
              "\n",
              "    .dataframe thead th {\n",
              "        text-align: right;\n",
              "    }\n",
              "</style>\n",
              "<table border=\"1\" class=\"dataframe\">\n",
              "  <thead>\n",
              "    <tr style=\"text-align: right;\">\n",
              "      <th></th>\n",
              "      <th>Survived</th>\n",
              "      <th>Pclass</th>\n",
              "      <th>SibSp</th>\n",
              "      <th>Parch</th>\n",
              "      <th>familysize</th>\n",
              "      <th>Age</th>\n",
              "      <th>Fare</th>\n",
              "    </tr>\n",
              "  </thead>\n",
              "  <tbody>\n",
              "    <tr>\n",
              "      <th>Survived</th>\n",
              "      <td>1.000000</td>\n",
              "      <td>-0.338481</td>\n",
              "      <td>-0.035322</td>\n",
              "      <td>0.081629</td>\n",
              "      <td>0.016639</td>\n",
              "      <td>-0.077221</td>\n",
              "      <td>0.257307</td>\n",
              "    </tr>\n",
              "    <tr>\n",
              "      <th>Pclass</th>\n",
              "      <td>-0.338481</td>\n",
              "      <td>1.000000</td>\n",
              "      <td>0.083081</td>\n",
              "      <td>0.018443</td>\n",
              "      <td>0.065997</td>\n",
              "      <td>-0.369226</td>\n",
              "      <td>-0.549500</td>\n",
              "    </tr>\n",
              "    <tr>\n",
              "      <th>SibSp</th>\n",
              "      <td>-0.035322</td>\n",
              "      <td>0.083081</td>\n",
              "      <td>1.000000</td>\n",
              "      <td>0.414838</td>\n",
              "      <td>0.890712</td>\n",
              "      <td>-0.308247</td>\n",
              "      <td>0.159651</td>\n",
              "    </tr>\n",
              "    <tr>\n",
              "      <th>Parch</th>\n",
              "      <td>0.081629</td>\n",
              "      <td>0.018443</td>\n",
              "      <td>0.414838</td>\n",
              "      <td>1.000000</td>\n",
              "      <td>0.783111</td>\n",
              "      <td>-0.189119</td>\n",
              "      <td>0.216225</td>\n",
              "    </tr>\n",
              "    <tr>\n",
              "      <th>familysize</th>\n",
              "      <td>0.016639</td>\n",
              "      <td>0.065997</td>\n",
              "      <td>0.890712</td>\n",
              "      <td>0.783111</td>\n",
              "      <td>1.000000</td>\n",
              "      <td>-0.301914</td>\n",
              "      <td>0.217138</td>\n",
              "    </tr>\n",
              "    <tr>\n",
              "      <th>Age</th>\n",
              "      <td>-0.077221</td>\n",
              "      <td>-0.369226</td>\n",
              "      <td>-0.308247</td>\n",
              "      <td>-0.189119</td>\n",
              "      <td>-0.301914</td>\n",
              "      <td>1.000000</td>\n",
              "      <td>0.096067</td>\n",
              "    </tr>\n",
              "    <tr>\n",
              "      <th>Fare</th>\n",
              "      <td>0.257307</td>\n",
              "      <td>-0.549500</td>\n",
              "      <td>0.159651</td>\n",
              "      <td>0.216225</td>\n",
              "      <td>0.217138</td>\n",
              "      <td>0.096067</td>\n",
              "      <td>1.000000</td>\n",
              "    </tr>\n",
              "  </tbody>\n",
              "</table>\n",
              "</div>"
            ],
            "text/plain": [
              "            Survived    Pclass     SibSp     Parch  familysize       Age  \\\n",
              "Survived    1.000000 -0.338481 -0.035322  0.081629    0.016639 -0.077221   \n",
              "Pclass     -0.338481  1.000000  0.083081  0.018443    0.065997 -0.369226   \n",
              "SibSp      -0.035322  0.083081  1.000000  0.414838    0.890712 -0.308247   \n",
              "Parch       0.081629  0.018443  0.414838  1.000000    0.783111 -0.189119   \n",
              "familysize  0.016639  0.065997  0.890712  0.783111    1.000000 -0.301914   \n",
              "Age        -0.077221 -0.369226 -0.308247 -0.189119   -0.301914  1.000000   \n",
              "Fare        0.257307 -0.549500  0.159651  0.216225    0.217138  0.096067   \n",
              "\n",
              "                Fare  \n",
              "Survived    0.257307  \n",
              "Pclass     -0.549500  \n",
              "SibSp       0.159651  \n",
              "Parch       0.216225  \n",
              "familysize  0.217138  \n",
              "Age         0.096067  \n",
              "Fare        1.000000  "
            ]
          },
          "metadata": {
            "tags": []
          },
          "execution_count": 192
        }
      ]
    },
    {
      "metadata": {
        "id": "6O-PuOr8M82I",
        "colab_type": "code",
        "outputId": "bea14dab-1f50-48cc-f938-b159996786b4",
        "colab": {
          "base_uri": "https://localhost:8080/",
          "height": 187
        }
      },
      "cell_type": "code",
      "source": [
        "df_train_final['familysize'].value_counts()"
      ],
      "execution_count": 0,
      "outputs": [
        {
          "output_type": "execute_result",
          "data": {
            "text/plain": [
              "1     537\n",
              "2     161\n",
              "3     102\n",
              "4      29\n",
              "6      22\n",
              "5      15\n",
              "7      12\n",
              "11      7\n",
              "8       6\n",
              "Name: familysize, dtype: int64"
            ]
          },
          "metadata": {
            "tags": []
          },
          "execution_count": 193
        }
      ]
    },
    {
      "metadata": {
        "id": "Qbico6Y9gnjr",
        "colab_type": "code",
        "colab": {}
      },
      "cell_type": "code",
      "source": [
        "##\n",
        "df_test['PclassX'] = df_test.Pclass.replace({1:'First',2:'Second', 3:'Third'})\n",
        "df_test['familysize'] = df_test.familysize.replace({7:6,8:6,11:6})"
      ],
      "execution_count": 0,
      "outputs": []
    },
    {
      "metadata": {
        "id": "YskOupoXP4BH",
        "colab_type": "code",
        "outputId": "ae2c87f9-19a1-42bc-fdfa-1309c425c8b6",
        "colab": {
          "base_uri": "https://localhost:8080/",
          "height": 542
        }
      },
      "cell_type": "code",
      "source": [
        "# Statistical Modelling for finding Association between variables\n",
        "df_train_final['PclassX'] = df_train_final.Pclass.replace({1:'First',2:'Second', 3:'Third'})\n",
        "df_train_final['familysize'] = df_train_final.familysize.replace({7:6,8:6,11:6})\n",
        "model = sm.GLM.from_formula(\"Survived ~ Sex+PclassX+Age+Fare+Parch+SibSp+Embarked+Name_title+familysize\", family=sm.families.Binomial(), data=df_train_final)\n",
        "result = model.fit()\n",
        "result.summary()"
      ],
      "execution_count": 0,
      "outputs": [
        {
          "output_type": "execute_result",
          "data": {
            "text/html": [
              "<table class=\"simpletable\">\n",
              "<caption>Generalized Linear Model Regression Results</caption>\n",
              "<tr>\n",
              "  <th>Dep. Variable:</th>      <td>Survived</td>     <th>  No. Observations:  </th>  <td>   714</td>  \n",
              "</tr>\n",
              "<tr>\n",
              "  <th>Model:</th>                 <td>GLM</td>       <th>  Df Residuals:      </th>  <td>   699</td>  \n",
              "</tr>\n",
              "<tr>\n",
              "  <th>Model Family:</th>       <td>Binomial</td>     <th>  Df Model:          </th>  <td>    14</td>  \n",
              "</tr>\n",
              "<tr>\n",
              "  <th>Link Function:</th>        <td>logit</td>      <th>  Scale:             </th> <td>  1.0000</td> \n",
              "</tr>\n",
              "<tr>\n",
              "  <th>Method:</th>               <td>IRLS</td>       <th>  Log-Likelihood:    </th> <td> -291.83</td> \n",
              "</tr>\n",
              "<tr>\n",
              "  <th>Date:</th>           <td>Wed, 01 May 2019</td> <th>  Deviance:          </th> <td>  583.66</td> \n",
              "</tr>\n",
              "<tr>\n",
              "  <th>Time:</th>               <td>00:55:07</td>     <th>  Pearson chi2:      </th>  <td>  725.</td>  \n",
              "</tr>\n",
              "<tr>\n",
              "  <th>No. Iterations:</th>        <td>21</td>        <th>  Covariance Type:   </th> <td>nonrobust</td>\n",
              "</tr>\n",
              "</table>\n",
              "<table class=\"simpletable\">\n",
              "<tr>\n",
              "            <td></td>              <th>coef</th>     <th>std err</th>      <th>z</th>      <th>P>|z|</th>  <th>[0.025</th>    <th>0.975]</th>  \n",
              "</tr>\n",
              "<tr>\n",
              "  <th>Intercept</th>            <td>   24.3383</td> <td> 1.72e+04</td> <td>    0.001</td> <td> 0.999</td> <td>-3.37e+04</td> <td> 3.38e+04</td>\n",
              "</tr>\n",
              "<tr>\n",
              "  <th>Sex[T.male]</th>          <td>  -22.7355</td> <td> 1.72e+04</td> <td>   -0.001</td> <td> 0.999</td> <td>-3.38e+04</td> <td> 3.37e+04</td>\n",
              "</tr>\n",
              "<tr>\n",
              "  <th>PclassX[T.Second]</th>    <td>   -1.3168</td> <td>    0.360</td> <td>   -3.655</td> <td> 0.000</td> <td>   -2.023</td> <td>   -0.611</td>\n",
              "</tr>\n",
              "<tr>\n",
              "  <th>PclassX[T.Third]</th>     <td>   -2.3384</td> <td>    0.369</td> <td>   -6.331</td> <td> 0.000</td> <td>   -3.062</td> <td>   -1.614</td>\n",
              "</tr>\n",
              "<tr>\n",
              "  <th>Embarked[T.Q]</th>        <td>   -1.0032</td> <td>    0.589</td> <td>   -1.702</td> <td> 0.089</td> <td>   -2.159</td> <td>    0.152</td>\n",
              "</tr>\n",
              "<tr>\n",
              "  <th>Embarked[T.S]</th>        <td>   -0.4663</td> <td>    0.288</td> <td>   -1.617</td> <td> 0.106</td> <td>   -1.032</td> <td>    0.099</td>\n",
              "</tr>\n",
              "<tr>\n",
              "  <th>Name_title[T.Master]</th> <td>    3.3292</td> <td>    0.833</td> <td>    3.997</td> <td> 0.000</td> <td>    1.697</td> <td>    4.962</td>\n",
              "</tr>\n",
              "<tr>\n",
              "  <th>Name_title[T.Miss]</th>   <td>  -19.9955</td> <td> 1.72e+04</td> <td>   -0.001</td> <td> 0.999</td> <td>-3.38e+04</td> <td> 3.37e+04</td>\n",
              "</tr>\n",
              "<tr>\n",
              "  <th>Name_title[T.Mr]</th>     <td>   -0.1048</td> <td>    0.592</td> <td>   -0.177</td> <td> 0.860</td> <td>   -1.265</td> <td>    1.056</td>\n",
              "</tr>\n",
              "<tr>\n",
              "  <th>Name_title[T.Mrs]</th>    <td>  -19.0826</td> <td> 1.72e+04</td> <td>   -0.001</td> <td> 0.999</td> <td>-3.38e+04</td> <td> 3.37e+04</td>\n",
              "</tr>\n",
              "<tr>\n",
              "  <th>Age</th>                  <td>   -0.0323</td> <td>    0.010</td> <td>   -3.229</td> <td> 0.001</td> <td>   -0.052</td> <td>   -0.013</td>\n",
              "</tr>\n",
              "<tr>\n",
              "  <th>Fare</th>                 <td>    0.0030</td> <td>    0.003</td> <td>    1.020</td> <td> 0.308</td> <td>   -0.003</td> <td>    0.009</td>\n",
              "</tr>\n",
              "<tr>\n",
              "  <th>Parch</th>                <td>   -0.1420</td> <td>    0.554</td> <td>   -0.256</td> <td> 0.798</td> <td>   -1.228</td> <td>    0.944</td>\n",
              "</tr>\n",
              "<tr>\n",
              "  <th>SibSp</th>                <td>   -0.4148</td> <td>    0.541</td> <td>   -0.767</td> <td> 0.443</td> <td>   -1.475</td> <td>    0.645</td>\n",
              "</tr>\n",
              "<tr>\n",
              "  <th>familysize</th>           <td>   -0.1923</td> <td>    0.584</td> <td>   -0.329</td> <td> 0.742</td> <td>   -1.338</td> <td>    0.953</td>\n",
              "</tr>\n",
              "</table>"
            ],
            "text/plain": [
              "<class 'statsmodels.iolib.summary.Summary'>\n",
              "\"\"\"\n",
              "                 Generalized Linear Model Regression Results                  \n",
              "==============================================================================\n",
              "Dep. Variable:               Survived   No. Observations:                  714\n",
              "Model:                            GLM   Df Residuals:                      699\n",
              "Model Family:                Binomial   Df Model:                           14\n",
              "Link Function:                  logit   Scale:                          1.0000\n",
              "Method:                          IRLS   Log-Likelihood:                -291.83\n",
              "Date:                Wed, 01 May 2019   Deviance:                       583.66\n",
              "Time:                        00:55:07   Pearson chi2:                     725.\n",
              "No. Iterations:                    21   Covariance Type:             nonrobust\n",
              "========================================================================================\n",
              "                           coef    std err          z      P>|z|      [0.025      0.975]\n",
              "----------------------------------------------------------------------------------------\n",
              "Intercept               24.3383   1.72e+04      0.001      0.999   -3.37e+04    3.38e+04\n",
              "Sex[T.male]            -22.7355   1.72e+04     -0.001      0.999   -3.38e+04    3.37e+04\n",
              "PclassX[T.Second]       -1.3168      0.360     -3.655      0.000      -2.023      -0.611\n",
              "PclassX[T.Third]        -2.3384      0.369     -6.331      0.000      -3.062      -1.614\n",
              "Embarked[T.Q]           -1.0032      0.589     -1.702      0.089      -2.159       0.152\n",
              "Embarked[T.S]           -0.4663      0.288     -1.617      0.106      -1.032       0.099\n",
              "Name_title[T.Master]     3.3292      0.833      3.997      0.000       1.697       4.962\n",
              "Name_title[T.Miss]     -19.9955   1.72e+04     -0.001      0.999   -3.38e+04    3.37e+04\n",
              "Name_title[T.Mr]        -0.1048      0.592     -0.177      0.860      -1.265       1.056\n",
              "Name_title[T.Mrs]      -19.0826   1.72e+04     -0.001      0.999   -3.38e+04    3.37e+04\n",
              "Age                     -0.0323      0.010     -3.229      0.001      -0.052      -0.013\n",
              "Fare                     0.0030      0.003      1.020      0.308      -0.003       0.009\n",
              "Parch                   -0.1420      0.554     -0.256      0.798      -1.228       0.944\n",
              "SibSp                   -0.4148      0.541     -0.767      0.443      -1.475       0.645\n",
              "familysize              -0.1923      0.584     -0.329      0.742      -1.338       0.953\n",
              "========================================================================================\n",
              "\"\"\""
            ]
          },
          "metadata": {
            "tags": []
          },
          "execution_count": 195
        }
      ]
    },
    {
      "metadata": {
        "id": "4E_Fn2K7ovs9",
        "colab_type": "text"
      },
      "cell_type": "markdown",
      "source": [
        "### Prepare the Data For Machine Learning Algorithms"
      ]
    },
    {
      "metadata": {
        "id": "kaeSQVnWP-3K",
        "colab_type": "code",
        "colab": {}
      },
      "cell_type": "code",
      "source": [
        "#handling missing values\n",
        "df_train_final['Age'].fillna(np.mean(df_train_final['Age']),inplace=True)"
      ],
      "execution_count": 0,
      "outputs": []
    },
    {
      "metadata": {
        "id": "8sV0oaB13ECI",
        "colab_type": "code",
        "colab": {}
      },
      "cell_type": "code",
      "source": [
        "## \n",
        "df_test['Age'].fillna(np.mean(df_test['Age']),inplace=True)"
      ],
      "execution_count": 0,
      "outputs": []
    },
    {
      "metadata": {
        "id": "_cCPBoZp4o3i",
        "colab_type": "code",
        "colab": {}
      },
      "cell_type": "code",
      "source": [
        "##\n",
        "df_test['Fare'].fillna(np.mean(df_test['Fare']),inplace=True)"
      ],
      "execution_count": 0,
      "outputs": []
    },
    {
      "metadata": {
        "id": "zd4A4TyHRX8i",
        "colab_type": "code",
        "colab": {}
      },
      "cell_type": "code",
      "source": [
        "# Creating Final Variables\n",
        "df_train_final = pd.get_dummies(df_train_final, columns=['Name_title',\"PclassX\",'Embarked','Sex','familysize'], drop_first=False)"
      ],
      "execution_count": 0,
      "outputs": []
    },
    {
      "metadata": {
        "id": "XuDFRr_83gf9",
        "colab_type": "code",
        "colab": {}
      },
      "cell_type": "code",
      "source": [
        "##\n",
        "df_test = pd.get_dummies(df_test, columns=['Name_title',\"PclassX\",'Embarked','Sex','familysize'], drop_first=False)"
      ],
      "execution_count": 0,
      "outputs": []
    },
    {
      "metadata": {
        "id": "cfT69Sf6ZBH-",
        "colab_type": "code",
        "colab": {}
      },
      "cell_type": "code",
      "source": [
        "df_train_final.drop(['Pclass','SibSp','Parch'], axis=1, inplace=True)\n",
        "pd.set_option('display.max_columns',200)"
      ],
      "execution_count": 0,
      "outputs": []
    },
    {
      "metadata": {
        "id": "O5eNLDja3ozp",
        "colab_type": "code",
        "colab": {}
      },
      "cell_type": "code",
      "source": [
        "##\n",
        "df_test.drop(['Pclass','SibSp','Parch'], axis=1, inplace=True)"
      ],
      "execution_count": 0,
      "outputs": []
    },
    {
      "metadata": {
        "id": "YISexkZyY8ST",
        "colab_type": "code",
        "outputId": "43d06ef1-0512-4cd2-ca6f-f122fb6dec29",
        "colab": {
          "base_uri": "https://localhost:8080/",
          "height": 224
        }
      },
      "cell_type": "code",
      "source": [
        "df_train_final.head()"
      ],
      "execution_count": 0,
      "outputs": [
        {
          "output_type": "execute_result",
          "data": {
            "text/html": [
              "<div>\n",
              "<style scoped>\n",
              "    .dataframe tbody tr th:only-of-type {\n",
              "        vertical-align: middle;\n",
              "    }\n",
              "\n",
              "    .dataframe tbody tr th {\n",
              "        vertical-align: top;\n",
              "    }\n",
              "\n",
              "    .dataframe thead th {\n",
              "        text-align: right;\n",
              "    }\n",
              "</style>\n",
              "<table border=\"1\" class=\"dataframe\">\n",
              "  <thead>\n",
              "    <tr style=\"text-align: right;\">\n",
              "      <th></th>\n",
              "      <th>Survived</th>\n",
              "      <th>Age</th>\n",
              "      <th>Fare</th>\n",
              "      <th>Name_title_Combined</th>\n",
              "      <th>Name_title_Master</th>\n",
              "      <th>Name_title_Miss</th>\n",
              "      <th>Name_title_Mr</th>\n",
              "      <th>Name_title_Mrs</th>\n",
              "      <th>PclassX_First</th>\n",
              "      <th>PclassX_Second</th>\n",
              "      <th>PclassX_Third</th>\n",
              "      <th>Embarked_C</th>\n",
              "      <th>Embarked_Q</th>\n",
              "      <th>Embarked_S</th>\n",
              "      <th>Sex_female</th>\n",
              "      <th>Sex_male</th>\n",
              "      <th>familysize_1</th>\n",
              "      <th>familysize_2</th>\n",
              "      <th>familysize_3</th>\n",
              "      <th>familysize_4</th>\n",
              "      <th>familysize_5</th>\n",
              "      <th>familysize_6</th>\n",
              "    </tr>\n",
              "  </thead>\n",
              "  <tbody>\n",
              "    <tr>\n",
              "      <th>0</th>\n",
              "      <td>0</td>\n",
              "      <td>22.0</td>\n",
              "      <td>7.2500</td>\n",
              "      <td>0</td>\n",
              "      <td>0</td>\n",
              "      <td>0</td>\n",
              "      <td>1</td>\n",
              "      <td>0</td>\n",
              "      <td>0</td>\n",
              "      <td>0</td>\n",
              "      <td>1</td>\n",
              "      <td>0</td>\n",
              "      <td>0</td>\n",
              "      <td>1</td>\n",
              "      <td>0</td>\n",
              "      <td>1</td>\n",
              "      <td>0</td>\n",
              "      <td>1</td>\n",
              "      <td>0</td>\n",
              "      <td>0</td>\n",
              "      <td>0</td>\n",
              "      <td>0</td>\n",
              "    </tr>\n",
              "    <tr>\n",
              "      <th>1</th>\n",
              "      <td>1</td>\n",
              "      <td>38.0</td>\n",
              "      <td>71.2833</td>\n",
              "      <td>0</td>\n",
              "      <td>0</td>\n",
              "      <td>0</td>\n",
              "      <td>0</td>\n",
              "      <td>1</td>\n",
              "      <td>1</td>\n",
              "      <td>0</td>\n",
              "      <td>0</td>\n",
              "      <td>1</td>\n",
              "      <td>0</td>\n",
              "      <td>0</td>\n",
              "      <td>1</td>\n",
              "      <td>0</td>\n",
              "      <td>0</td>\n",
              "      <td>1</td>\n",
              "      <td>0</td>\n",
              "      <td>0</td>\n",
              "      <td>0</td>\n",
              "      <td>0</td>\n",
              "    </tr>\n",
              "    <tr>\n",
              "      <th>2</th>\n",
              "      <td>1</td>\n",
              "      <td>26.0</td>\n",
              "      <td>7.9250</td>\n",
              "      <td>0</td>\n",
              "      <td>0</td>\n",
              "      <td>1</td>\n",
              "      <td>0</td>\n",
              "      <td>0</td>\n",
              "      <td>0</td>\n",
              "      <td>0</td>\n",
              "      <td>1</td>\n",
              "      <td>0</td>\n",
              "      <td>0</td>\n",
              "      <td>1</td>\n",
              "      <td>1</td>\n",
              "      <td>0</td>\n",
              "      <td>1</td>\n",
              "      <td>0</td>\n",
              "      <td>0</td>\n",
              "      <td>0</td>\n",
              "      <td>0</td>\n",
              "      <td>0</td>\n",
              "    </tr>\n",
              "    <tr>\n",
              "      <th>3</th>\n",
              "      <td>1</td>\n",
              "      <td>35.0</td>\n",
              "      <td>53.1000</td>\n",
              "      <td>0</td>\n",
              "      <td>0</td>\n",
              "      <td>0</td>\n",
              "      <td>0</td>\n",
              "      <td>1</td>\n",
              "      <td>1</td>\n",
              "      <td>0</td>\n",
              "      <td>0</td>\n",
              "      <td>0</td>\n",
              "      <td>0</td>\n",
              "      <td>1</td>\n",
              "      <td>1</td>\n",
              "      <td>0</td>\n",
              "      <td>0</td>\n",
              "      <td>1</td>\n",
              "      <td>0</td>\n",
              "      <td>0</td>\n",
              "      <td>0</td>\n",
              "      <td>0</td>\n",
              "    </tr>\n",
              "    <tr>\n",
              "      <th>4</th>\n",
              "      <td>0</td>\n",
              "      <td>35.0</td>\n",
              "      <td>8.0500</td>\n",
              "      <td>0</td>\n",
              "      <td>0</td>\n",
              "      <td>0</td>\n",
              "      <td>1</td>\n",
              "      <td>0</td>\n",
              "      <td>0</td>\n",
              "      <td>0</td>\n",
              "      <td>1</td>\n",
              "      <td>0</td>\n",
              "      <td>0</td>\n",
              "      <td>1</td>\n",
              "      <td>0</td>\n",
              "      <td>1</td>\n",
              "      <td>1</td>\n",
              "      <td>0</td>\n",
              "      <td>0</td>\n",
              "      <td>0</td>\n",
              "      <td>0</td>\n",
              "      <td>0</td>\n",
              "    </tr>\n",
              "  </tbody>\n",
              "</table>\n",
              "</div>"
            ],
            "text/plain": [
              "   Survived   Age     Fare  Name_title_Combined  Name_title_Master  \\\n",
              "0         0  22.0   7.2500                    0                  0   \n",
              "1         1  38.0  71.2833                    0                  0   \n",
              "2         1  26.0   7.9250                    0                  0   \n",
              "3         1  35.0  53.1000                    0                  0   \n",
              "4         0  35.0   8.0500                    0                  0   \n",
              "\n",
              "   Name_title_Miss  Name_title_Mr  Name_title_Mrs  PclassX_First  \\\n",
              "0                0              1               0              0   \n",
              "1                0              0               1              1   \n",
              "2                1              0               0              0   \n",
              "3                0              0               1              1   \n",
              "4                0              1               0              0   \n",
              "\n",
              "   PclassX_Second  PclassX_Third  Embarked_C  Embarked_Q  Embarked_S  \\\n",
              "0               0              1           0           0           1   \n",
              "1               0              0           1           0           0   \n",
              "2               0              1           0           0           1   \n",
              "3               0              0           0           0           1   \n",
              "4               0              1           0           0           1   \n",
              "\n",
              "   Sex_female  Sex_male  familysize_1  familysize_2  familysize_3  \\\n",
              "0           0         1             0             1             0   \n",
              "1           1         0             0             1             0   \n",
              "2           1         0             1             0             0   \n",
              "3           1         0             0             1             0   \n",
              "4           0         1             1             0             0   \n",
              "\n",
              "   familysize_4  familysize_5  familysize_6  \n",
              "0             0             0             0  \n",
              "1             0             0             0  \n",
              "2             0             0             0  \n",
              "3             0             0             0  \n",
              "4             0             0             0  "
            ]
          },
          "metadata": {
            "tags": []
          },
          "execution_count": 203
        }
      ]
    },
    {
      "metadata": {
        "id": "d1S-ec8z4E0U",
        "colab_type": "code",
        "colab": {}
      },
      "cell_type": "code",
      "source": [
        "df_test.drop(['PassengerId','Name','Ticket','Cabin'], axis=1, inplace=True)"
      ],
      "execution_count": 0,
      "outputs": []
    },
    {
      "metadata": {
        "id": "oCt5wAK_3vkI",
        "colab_type": "code",
        "outputId": "28f2c4b1-691e-4bdf-aa9e-97a50ab927bc",
        "colab": {
          "base_uri": "https://localhost:8080/",
          "height": 224
        }
      },
      "cell_type": "code",
      "source": [
        "df_test.head()"
      ],
      "execution_count": 0,
      "outputs": [
        {
          "output_type": "execute_result",
          "data": {
            "text/html": [
              "<div>\n",
              "<style scoped>\n",
              "    .dataframe tbody tr th:only-of-type {\n",
              "        vertical-align: middle;\n",
              "    }\n",
              "\n",
              "    .dataframe tbody tr th {\n",
              "        vertical-align: top;\n",
              "    }\n",
              "\n",
              "    .dataframe thead th {\n",
              "        text-align: right;\n",
              "    }\n",
              "</style>\n",
              "<table border=\"1\" class=\"dataframe\">\n",
              "  <thead>\n",
              "    <tr style=\"text-align: right;\">\n",
              "      <th></th>\n",
              "      <th>Age</th>\n",
              "      <th>Fare</th>\n",
              "      <th>Name_title_Combined</th>\n",
              "      <th>Name_title_Master</th>\n",
              "      <th>Name_title_Miss</th>\n",
              "      <th>Name_title_Mr</th>\n",
              "      <th>Name_title_Mrs</th>\n",
              "      <th>PclassX_First</th>\n",
              "      <th>PclassX_Second</th>\n",
              "      <th>PclassX_Third</th>\n",
              "      <th>Embarked_C</th>\n",
              "      <th>Embarked_Q</th>\n",
              "      <th>Embarked_S</th>\n",
              "      <th>Sex_female</th>\n",
              "      <th>Sex_male</th>\n",
              "      <th>familysize_1</th>\n",
              "      <th>familysize_2</th>\n",
              "      <th>familysize_3</th>\n",
              "      <th>familysize_4</th>\n",
              "      <th>familysize_5</th>\n",
              "      <th>familysize_6</th>\n",
              "    </tr>\n",
              "  </thead>\n",
              "  <tbody>\n",
              "    <tr>\n",
              "      <th>0</th>\n",
              "      <td>34.5</td>\n",
              "      <td>7.8292</td>\n",
              "      <td>0</td>\n",
              "      <td>0</td>\n",
              "      <td>0</td>\n",
              "      <td>1</td>\n",
              "      <td>0</td>\n",
              "      <td>0</td>\n",
              "      <td>0</td>\n",
              "      <td>1</td>\n",
              "      <td>0</td>\n",
              "      <td>1</td>\n",
              "      <td>0</td>\n",
              "      <td>0</td>\n",
              "      <td>1</td>\n",
              "      <td>1</td>\n",
              "      <td>0</td>\n",
              "      <td>0</td>\n",
              "      <td>0</td>\n",
              "      <td>0</td>\n",
              "      <td>0</td>\n",
              "    </tr>\n",
              "    <tr>\n",
              "      <th>1</th>\n",
              "      <td>47.0</td>\n",
              "      <td>7.0000</td>\n",
              "      <td>0</td>\n",
              "      <td>0</td>\n",
              "      <td>0</td>\n",
              "      <td>0</td>\n",
              "      <td>1</td>\n",
              "      <td>0</td>\n",
              "      <td>0</td>\n",
              "      <td>1</td>\n",
              "      <td>0</td>\n",
              "      <td>0</td>\n",
              "      <td>1</td>\n",
              "      <td>1</td>\n",
              "      <td>0</td>\n",
              "      <td>0</td>\n",
              "      <td>1</td>\n",
              "      <td>0</td>\n",
              "      <td>0</td>\n",
              "      <td>0</td>\n",
              "      <td>0</td>\n",
              "    </tr>\n",
              "    <tr>\n",
              "      <th>2</th>\n",
              "      <td>62.0</td>\n",
              "      <td>9.6875</td>\n",
              "      <td>0</td>\n",
              "      <td>0</td>\n",
              "      <td>0</td>\n",
              "      <td>1</td>\n",
              "      <td>0</td>\n",
              "      <td>0</td>\n",
              "      <td>1</td>\n",
              "      <td>0</td>\n",
              "      <td>0</td>\n",
              "      <td>1</td>\n",
              "      <td>0</td>\n",
              "      <td>0</td>\n",
              "      <td>1</td>\n",
              "      <td>1</td>\n",
              "      <td>0</td>\n",
              "      <td>0</td>\n",
              "      <td>0</td>\n",
              "      <td>0</td>\n",
              "      <td>0</td>\n",
              "    </tr>\n",
              "    <tr>\n",
              "      <th>3</th>\n",
              "      <td>27.0</td>\n",
              "      <td>8.6625</td>\n",
              "      <td>0</td>\n",
              "      <td>0</td>\n",
              "      <td>0</td>\n",
              "      <td>1</td>\n",
              "      <td>0</td>\n",
              "      <td>0</td>\n",
              "      <td>0</td>\n",
              "      <td>1</td>\n",
              "      <td>0</td>\n",
              "      <td>0</td>\n",
              "      <td>1</td>\n",
              "      <td>0</td>\n",
              "      <td>1</td>\n",
              "      <td>1</td>\n",
              "      <td>0</td>\n",
              "      <td>0</td>\n",
              "      <td>0</td>\n",
              "      <td>0</td>\n",
              "      <td>0</td>\n",
              "    </tr>\n",
              "    <tr>\n",
              "      <th>4</th>\n",
              "      <td>22.0</td>\n",
              "      <td>12.2875</td>\n",
              "      <td>0</td>\n",
              "      <td>0</td>\n",
              "      <td>0</td>\n",
              "      <td>0</td>\n",
              "      <td>1</td>\n",
              "      <td>0</td>\n",
              "      <td>0</td>\n",
              "      <td>1</td>\n",
              "      <td>0</td>\n",
              "      <td>0</td>\n",
              "      <td>1</td>\n",
              "      <td>1</td>\n",
              "      <td>0</td>\n",
              "      <td>0</td>\n",
              "      <td>0</td>\n",
              "      <td>1</td>\n",
              "      <td>0</td>\n",
              "      <td>0</td>\n",
              "      <td>0</td>\n",
              "    </tr>\n",
              "  </tbody>\n",
              "</table>\n",
              "</div>"
            ],
            "text/plain": [
              "    Age     Fare  Name_title_Combined  Name_title_Master  Name_title_Miss  \\\n",
              "0  34.5   7.8292                    0                  0                0   \n",
              "1  47.0   7.0000                    0                  0                0   \n",
              "2  62.0   9.6875                    0                  0                0   \n",
              "3  27.0   8.6625                    0                  0                0   \n",
              "4  22.0  12.2875                    0                  0                0   \n",
              "\n",
              "   Name_title_Mr  Name_title_Mrs  PclassX_First  PclassX_Second  \\\n",
              "0              1               0              0               0   \n",
              "1              0               1              0               0   \n",
              "2              1               0              0               1   \n",
              "3              1               0              0               0   \n",
              "4              0               1              0               0   \n",
              "\n",
              "   PclassX_Third  Embarked_C  Embarked_Q  Embarked_S  Sex_female  Sex_male  \\\n",
              "0              1           0           1           0           0         1   \n",
              "1              1           0           0           1           1         0   \n",
              "2              0           0           1           0           0         1   \n",
              "3              1           0           0           1           0         1   \n",
              "4              1           0           0           1           1         0   \n",
              "\n",
              "   familysize_1  familysize_2  familysize_3  familysize_4  familysize_5  \\\n",
              "0             1             0             0             0             0   \n",
              "1             0             1             0             0             0   \n",
              "2             1             0             0             0             0   \n",
              "3             1             0             0             0             0   \n",
              "4             0             0             1             0             0   \n",
              "\n",
              "   familysize_6  \n",
              "0             0  \n",
              "1             0  \n",
              "2             0  \n",
              "3             0  \n",
              "4             0  "
            ]
          },
          "metadata": {
            "tags": []
          },
          "execution_count": 205
        }
      ]
    },
    {
      "metadata": {
        "id": "avgICGfo4a6Y",
        "colab_type": "code",
        "outputId": "94331a06-b002-4b14-91bf-18ab78f83d1b",
        "colab": {
          "base_uri": "https://localhost:8080/",
          "height": 459
        }
      },
      "cell_type": "code",
      "source": [
        "df_test.info()"
      ],
      "execution_count": 0,
      "outputs": [
        {
          "output_type": "stream",
          "text": [
            "<class 'pandas.core.frame.DataFrame'>\n",
            "RangeIndex: 418 entries, 0 to 417\n",
            "Data columns (total 21 columns):\n",
            "Age                    418 non-null float64\n",
            "Fare                   418 non-null float64\n",
            "Name_title_Combined    418 non-null uint8\n",
            "Name_title_Master      418 non-null uint8\n",
            "Name_title_Miss        418 non-null uint8\n",
            "Name_title_Mr          418 non-null uint8\n",
            "Name_title_Mrs         418 non-null uint8\n",
            "PclassX_First          418 non-null uint8\n",
            "PclassX_Second         418 non-null uint8\n",
            "PclassX_Third          418 non-null uint8\n",
            "Embarked_C             418 non-null uint8\n",
            "Embarked_Q             418 non-null uint8\n",
            "Embarked_S             418 non-null uint8\n",
            "Sex_female             418 non-null uint8\n",
            "Sex_male               418 non-null uint8\n",
            "familysize_1           418 non-null uint8\n",
            "familysize_2           418 non-null uint8\n",
            "familysize_3           418 non-null uint8\n",
            "familysize_4           418 non-null uint8\n",
            "familysize_5           418 non-null uint8\n",
            "familysize_6           418 non-null uint8\n",
            "dtypes: float64(2), uint8(19)\n",
            "memory usage: 14.4 KB\n"
          ],
          "name": "stdout"
        }
      ]
    },
    {
      "metadata": {
        "id": "s_3XkUxzi_C5",
        "colab_type": "code",
        "outputId": "82897d2f-6853-40af-c148-3b0673086ee1",
        "colab": {
          "base_uri": "https://localhost:8080/",
          "height": 408
        }
      },
      "cell_type": "code",
      "source": [
        "df_train_final.corr()['Survived'].sort_values(ascending=False)"
      ],
      "execution_count": 0,
      "outputs": [
        {
          "output_type": "execute_result",
          "data": {
            "text/plain": [
              "Survived               1.000000\n",
              "Sex_female             0.543351\n",
              "Name_title_Mrs         0.339040\n",
              "Name_title_Miss        0.327093\n",
              "PclassX_First          0.285904\n",
              "Fare                   0.257307\n",
              "Embarked_C             0.171485\n",
              "familysize_2           0.163157\n",
              "familysize_3           0.143869\n",
              "familysize_4           0.128347\n",
              "PclassX_Second         0.093349\n",
              "Name_title_Master      0.085221\n",
              "Name_title_Combined    0.022030\n",
              "Embarked_Q             0.003650\n",
              "familysize_5          -0.049466\n",
              "Age                   -0.069809\n",
              "familysize_6          -0.113984\n",
              "Embarked_S            -0.152675\n",
              "familysize_1          -0.203367\n",
              "PclassX_Third         -0.322308\n",
              "Sex_male              -0.543351\n",
              "Name_title_Mr         -0.549199\n",
              "Name: Survived, dtype: float64"
            ]
          },
          "metadata": {
            "tags": []
          },
          "execution_count": 207
        }
      ]
    },
    {
      "metadata": {
        "id": "M5zKmqjlaat0",
        "colab_type": "code",
        "colab": {}
      },
      "cell_type": "code",
      "source": [
        "# Separating dependent and independent variables\n",
        "\n",
        "X = df_train_final.drop(['Survived'], axis = 1)\n",
        "y = df_train_final[\"Survived\"]\n"
      ],
      "execution_count": 0,
      "outputs": []
    },
    {
      "metadata": {
        "id": "4mdkRtuCbUJj",
        "colab_type": "code",
        "colab": {}
      },
      "cell_type": "code",
      "source": [
        "# Splitting train/dev/test\n",
        "\n",
        "from sklearn.model_selection import train_test_split\n",
        "train_X, dev_test_X, train_y, dev_test_y = train_test_split(X,y,test_size = .33, random_state = 0)\n"
      ],
      "execution_count": 0,
      "outputs": []
    },
    {
      "metadata": {
        "id": "nyawCqnecAdZ",
        "colab_type": "code",
        "colab": {}
      },
      "cell_type": "code",
      "source": [
        "# spiltting dev/test\n",
        "\n",
        "dev_X, test_X, dev_y, test_y = train_test_split(dev_test_X,dev_test_y,test_size = .5, random_state = 0)\n"
      ],
      "execution_count": 0,
      "outputs": []
    },
    {
      "metadata": {
        "id": "PynWgAnCes61",
        "colab_type": "code",
        "colab": {}
      },
      "cell_type": "code",
      "source": [
        "# feature scaling of AGe and Fare\n",
        "\n",
        "from sklearn.preprocessing import StandardScaler\n",
        "sc = StandardScaler()\n",
        "\n",
        "train_X[['Age','Fare']] = sc.fit_transform(train_X[['Age','Fare']])\n"
      ],
      "execution_count": 0,
      "outputs": []
    },
    {
      "metadata": {
        "id": "9BucZnvHfQ7V",
        "colab_type": "code",
        "colab": {}
      },
      "cell_type": "code",
      "source": [
        "dev_X[['Age','Fare']] = sc.fit_transform(dev_X[['Age','Fare']])\n",
        "test_X[['Age','Fare']] = sc.fit_transform(test_X[['Age','Fare']])"
      ],
      "execution_count": 0,
      "outputs": []
    },
    {
      "metadata": {
        "id": "Jyk1T57xpJJF",
        "colab_type": "text"
      },
      "cell_type": "markdown",
      "source": [
        "### Select and Train Model"
      ]
    },
    {
      "metadata": {
        "id": "5TIi1NfItrWU",
        "colab_type": "code",
        "colab": {}
      },
      "cell_type": "code",
      "source": [
        "from sklearn.linear_model import LogisticRegression\n",
        "from sklearn.metrics import f1_score,accuracy_score\n",
        "from sklearn.neighbors import KNeighborsClassifier\n",
        "from sklearn.svm import SVC\n",
        "from sklearn.tree import DecisionTreeClassifier\n",
        "from sklearn.ensemble import RandomForestClassifier\n",
        "from sklearn.ensemble import AdaBoostClassifier\n",
        "from sklearn.ensemble import GradientBoostingClassifier\n",
        "from xgboost import XGBClassifier\n",
        "from sklearn.model_selection import GridSearchCV, StratifiedKFold,StratifiedShuffleSplit, cross_val_score"
      ],
      "execution_count": 0,
      "outputs": []
    },
    {
      "metadata": {
        "id": "PpIBAzOwssWN",
        "colab_type": "code",
        "colab": {}
      },
      "cell_type": "code",
      "source": [
        "model_lst = []\n",
        "train_lst = []\n",
        "dev_lst = []\n",
        "cross_val_lst =[]\n",
        "test_lst =[]\n",
        "def fit_model(model,model_name):\n",
        "  model.fit(train_X,train_y)\n",
        "  y_pred_train = model.predict(train_X)\n",
        "  y_pred_dev = model.predict(dev_X)\n",
        "  global model_lst\n",
        "  model_lst.append(model_name)\n",
        "  global train_lst\n",
        "  train_lst.append(f1_score(train_y,y_pred_train))\n",
        "  global dev_lst\n",
        "  dev_lst.append(f1_score(dev_y,y_pred_dev))\n",
        "  cv = StratifiedShuffleSplit(n_splits=10, test_size=.25, random_state=0)\n",
        "  accuracies = cross_val_score(model, X,y, cv = cv, scoring='f1')\n",
        "  global cross_val_lst\n",
        "  cross_val_lst.append(accuracies.mean())\n",
        "  global test_lst\n",
        "  test_lst.append(f1_score(test_y,model.predict(test_X)))"
      ],
      "execution_count": 0,
      "outputs": []
    },
    {
      "metadata": {
        "id": "mX5JYxaUtbcV",
        "colab_type": "code",
        "colab": {}
      },
      "cell_type": "code",
      "source": [
        "fit_model(LogisticRegression(C=10),\"Logistic Regression\")"
      ],
      "execution_count": 0,
      "outputs": []
    },
    {
      "metadata": {
        "id": "9TBU8DrOt-w5",
        "colab_type": "code",
        "colab": {}
      },
      "cell_type": "code",
      "source": [
        "fit_model(KNeighborsClassifier(metric='minkowski', p=2),\"KNN\")"
      ],
      "execution_count": 0,
      "outputs": []
    },
    {
      "metadata": {
        "id": "fxZd48TauT_T",
        "colab_type": "code",
        "colab": {}
      },
      "cell_type": "code",
      "source": [
        "fit_model(SVC(C=2.5,gamma=0.01),\"SVM\")"
      ],
      "execution_count": 0,
      "outputs": []
    },
    {
      "metadata": {
        "id": "ZwTxon97ub4P",
        "colab_type": "code",
        "colab": {}
      },
      "cell_type": "code",
      "source": [
        "fit_model(DecisionTreeClassifier(criterion= 'gini', max_depth= 5,random_state=0),\"Decision Tree\")"
      ],
      "execution_count": 0,
      "outputs": []
    },
    {
      "metadata": {
        "id": "bGHinezNuj9J",
        "colab_type": "code",
        "colab": {}
      },
      "cell_type": "code",
      "source": [
        "fit_model(RandomForestClassifier(criterion='entropy',max_depth= 8, n_estimators= 150,max_features='auto'),\"Random Forest\")"
      ],
      "execution_count": 0,
      "outputs": []
    },
    {
      "metadata": {
        "id": "X6yCPk4GuzBw",
        "colab_type": "code",
        "colab": {}
      },
      "cell_type": "code",
      "source": [
        "fit_model(AdaBoostClassifier(),\"Adaboost\")"
      ],
      "execution_count": 0,
      "outputs": []
    },
    {
      "metadata": {
        "id": "UHGKkMhTu8bI",
        "colab_type": "code",
        "colab": {}
      },
      "cell_type": "code",
      "source": [
        "fit_model(GradientBoostingClassifier(),\"Gradient Boosting\")"
      ],
      "execution_count": 0,
      "outputs": []
    },
    {
      "metadata": {
        "id": "aS7bo6HSvHJP",
        "colab_type": "code",
        "colab": {}
      },
      "cell_type": "code",
      "source": [
        "fit_model(XGBClassifier(),\"XGB\")"
      ],
      "execution_count": 0,
      "outputs": []
    },
    {
      "metadata": {
        "id": "Zn1zh6WssewL",
        "colab_type": "code",
        "colab": {}
      },
      "cell_type": "code",
      "source": [
        "df = pd.DataFrame(model_lst,columns=['Model'])"
      ],
      "execution_count": 0,
      "outputs": []
    },
    {
      "metadata": {
        "id": "E-DJm58L2kzp",
        "colab_type": "code",
        "colab": {}
      },
      "cell_type": "code",
      "source": [
        "df['Training F1'] = train_lst\n",
        "df['Dev F1'] = dev_lst\n",
        "df['Cross_val'] = cross_val_lst\n",
        "df['Test F1'] = test_lst"
      ],
      "execution_count": 0,
      "outputs": []
    },
    {
      "metadata": {
        "id": "Op-IZTU42qvI",
        "colab_type": "code",
        "outputId": "7a163554-eae0-4d3c-a146-3de4ea53836f",
        "colab": {
          "base_uri": "https://localhost:8080/",
          "height": 297
        }
      },
      "cell_type": "code",
      "source": [
        "df"
      ],
      "execution_count": 0,
      "outputs": [
        {
          "output_type": "execute_result",
          "data": {
            "text/html": [
              "<div>\n",
              "<style scoped>\n",
              "    .dataframe tbody tr th:only-of-type {\n",
              "        vertical-align: middle;\n",
              "    }\n",
              "\n",
              "    .dataframe tbody tr th {\n",
              "        vertical-align: top;\n",
              "    }\n",
              "\n",
              "    .dataframe thead th {\n",
              "        text-align: right;\n",
              "    }\n",
              "</style>\n",
              "<table border=\"1\" class=\"dataframe\">\n",
              "  <thead>\n",
              "    <tr style=\"text-align: right;\">\n",
              "      <th></th>\n",
              "      <th>Model</th>\n",
              "      <th>Training F1</th>\n",
              "      <th>Dev F1</th>\n",
              "      <th>Cross_val</th>\n",
              "      <th>Test F1</th>\n",
              "    </tr>\n",
              "  </thead>\n",
              "  <tbody>\n",
              "    <tr>\n",
              "      <th>0</th>\n",
              "      <td>Logistic Regression</td>\n",
              "      <td>0.777273</td>\n",
              "      <td>0.849558</td>\n",
              "      <td>0.774833</td>\n",
              "      <td>0.690265</td>\n",
              "    </tr>\n",
              "    <tr>\n",
              "      <th>1</th>\n",
              "      <td>KNN</td>\n",
              "      <td>0.823529</td>\n",
              "      <td>0.735849</td>\n",
              "      <td>0.617029</td>\n",
              "      <td>0.637931</td>\n",
              "    </tr>\n",
              "    <tr>\n",
              "      <th>2</th>\n",
              "      <td>SVM</td>\n",
              "      <td>0.742729</td>\n",
              "      <td>0.792793</td>\n",
              "      <td>0.694941</td>\n",
              "      <td>0.660714</td>\n",
              "    </tr>\n",
              "    <tr>\n",
              "      <th>3</th>\n",
              "      <td>Decision Tree</td>\n",
              "      <td>0.816327</td>\n",
              "      <td>0.785714</td>\n",
              "      <td>0.738285</td>\n",
              "      <td>0.615385</td>\n",
              "    </tr>\n",
              "    <tr>\n",
              "      <th>4</th>\n",
              "      <td>Random Forest</td>\n",
              "      <td>0.862559</td>\n",
              "      <td>0.822430</td>\n",
              "      <td>0.753850</td>\n",
              "      <td>0.703704</td>\n",
              "    </tr>\n",
              "    <tr>\n",
              "      <th>5</th>\n",
              "      <td>Adaboost</td>\n",
              "      <td>0.804348</td>\n",
              "      <td>0.796296</td>\n",
              "      <td>0.753224</td>\n",
              "      <td>0.690265</td>\n",
              "    </tr>\n",
              "    <tr>\n",
              "      <th>6</th>\n",
              "      <td>Gradient Boosting</td>\n",
              "      <td>0.886878</td>\n",
              "      <td>0.818182</td>\n",
              "      <td>0.764023</td>\n",
              "      <td>0.725490</td>\n",
              "    </tr>\n",
              "    <tr>\n",
              "      <th>7</th>\n",
              "      <td>XGB</td>\n",
              "      <td>0.846154</td>\n",
              "      <td>0.836364</td>\n",
              "      <td>0.773285</td>\n",
              "      <td>0.699029</td>\n",
              "    </tr>\n",
              "  </tbody>\n",
              "</table>\n",
              "</div>"
            ],
            "text/plain": [
              "                 Model  Training F1    Dev F1  Cross_val   Test F1\n",
              "0  Logistic Regression     0.777273  0.849558   0.774833  0.690265\n",
              "1                  KNN     0.823529  0.735849   0.617029  0.637931\n",
              "2                  SVM     0.742729  0.792793   0.694941  0.660714\n",
              "3        Decision Tree     0.816327  0.785714   0.738285  0.615385\n",
              "4        Random Forest     0.862559  0.822430   0.753850  0.703704\n",
              "5             Adaboost     0.804348  0.796296   0.753224  0.690265\n",
              "6    Gradient Boosting     0.886878  0.818182   0.764023  0.725490\n",
              "7                  XGB     0.846154  0.836364   0.773285  0.699029"
            ]
          },
          "metadata": {
            "tags": []
          },
          "execution_count": 225
        }
      ]
    },
    {
      "metadata": {
        "id": "j3kFjq-F4nNP",
        "colab_type": "code",
        "outputId": "2e481500-fd19-43f1-b522-3da2304dea6e",
        "colab": {
          "base_uri": "https://localhost:8080/",
          "height": 1041
        }
      },
      "cell_type": "code",
      "source": [
        "# Reshaping DataFrame\n",
        "df = pd.melt(df, id_vars=\"Model\", var_name=\"Set\", value_name=\"F1 Score\")\n",
        "df"
      ],
      "execution_count": 0,
      "outputs": [
        {
          "output_type": "execute_result",
          "data": {
            "text/html": [
              "<div>\n",
              "<style scoped>\n",
              "    .dataframe tbody tr th:only-of-type {\n",
              "        vertical-align: middle;\n",
              "    }\n",
              "\n",
              "    .dataframe tbody tr th {\n",
              "        vertical-align: top;\n",
              "    }\n",
              "\n",
              "    .dataframe thead th {\n",
              "        text-align: right;\n",
              "    }\n",
              "</style>\n",
              "<table border=\"1\" class=\"dataframe\">\n",
              "  <thead>\n",
              "    <tr style=\"text-align: right;\">\n",
              "      <th></th>\n",
              "      <th>Model</th>\n",
              "      <th>Set</th>\n",
              "      <th>F1 Score</th>\n",
              "    </tr>\n",
              "  </thead>\n",
              "  <tbody>\n",
              "    <tr>\n",
              "      <th>0</th>\n",
              "      <td>Logistic Regression</td>\n",
              "      <td>Training F1</td>\n",
              "      <td>0.777273</td>\n",
              "    </tr>\n",
              "    <tr>\n",
              "      <th>1</th>\n",
              "      <td>KNN</td>\n",
              "      <td>Training F1</td>\n",
              "      <td>0.823529</td>\n",
              "    </tr>\n",
              "    <tr>\n",
              "      <th>2</th>\n",
              "      <td>SVM</td>\n",
              "      <td>Training F1</td>\n",
              "      <td>0.742729</td>\n",
              "    </tr>\n",
              "    <tr>\n",
              "      <th>3</th>\n",
              "      <td>Decision Tree</td>\n",
              "      <td>Training F1</td>\n",
              "      <td>0.816327</td>\n",
              "    </tr>\n",
              "    <tr>\n",
              "      <th>4</th>\n",
              "      <td>Random Forest</td>\n",
              "      <td>Training F1</td>\n",
              "      <td>0.862559</td>\n",
              "    </tr>\n",
              "    <tr>\n",
              "      <th>5</th>\n",
              "      <td>Adaboost</td>\n",
              "      <td>Training F1</td>\n",
              "      <td>0.804348</td>\n",
              "    </tr>\n",
              "    <tr>\n",
              "      <th>6</th>\n",
              "      <td>Gradient Boosting</td>\n",
              "      <td>Training F1</td>\n",
              "      <td>0.886878</td>\n",
              "    </tr>\n",
              "    <tr>\n",
              "      <th>7</th>\n",
              "      <td>XGB</td>\n",
              "      <td>Training F1</td>\n",
              "      <td>0.846154</td>\n",
              "    </tr>\n",
              "    <tr>\n",
              "      <th>8</th>\n",
              "      <td>Logistic Regression</td>\n",
              "      <td>Dev F1</td>\n",
              "      <td>0.849558</td>\n",
              "    </tr>\n",
              "    <tr>\n",
              "      <th>9</th>\n",
              "      <td>KNN</td>\n",
              "      <td>Dev F1</td>\n",
              "      <td>0.735849</td>\n",
              "    </tr>\n",
              "    <tr>\n",
              "      <th>10</th>\n",
              "      <td>SVM</td>\n",
              "      <td>Dev F1</td>\n",
              "      <td>0.792793</td>\n",
              "    </tr>\n",
              "    <tr>\n",
              "      <th>11</th>\n",
              "      <td>Decision Tree</td>\n",
              "      <td>Dev F1</td>\n",
              "      <td>0.785714</td>\n",
              "    </tr>\n",
              "    <tr>\n",
              "      <th>12</th>\n",
              "      <td>Random Forest</td>\n",
              "      <td>Dev F1</td>\n",
              "      <td>0.822430</td>\n",
              "    </tr>\n",
              "    <tr>\n",
              "      <th>13</th>\n",
              "      <td>Adaboost</td>\n",
              "      <td>Dev F1</td>\n",
              "      <td>0.796296</td>\n",
              "    </tr>\n",
              "    <tr>\n",
              "      <th>14</th>\n",
              "      <td>Gradient Boosting</td>\n",
              "      <td>Dev F1</td>\n",
              "      <td>0.818182</td>\n",
              "    </tr>\n",
              "    <tr>\n",
              "      <th>15</th>\n",
              "      <td>XGB</td>\n",
              "      <td>Dev F1</td>\n",
              "      <td>0.836364</td>\n",
              "    </tr>\n",
              "    <tr>\n",
              "      <th>16</th>\n",
              "      <td>Logistic Regression</td>\n",
              "      <td>Cross_val</td>\n",
              "      <td>0.774833</td>\n",
              "    </tr>\n",
              "    <tr>\n",
              "      <th>17</th>\n",
              "      <td>KNN</td>\n",
              "      <td>Cross_val</td>\n",
              "      <td>0.617029</td>\n",
              "    </tr>\n",
              "    <tr>\n",
              "      <th>18</th>\n",
              "      <td>SVM</td>\n",
              "      <td>Cross_val</td>\n",
              "      <td>0.694941</td>\n",
              "    </tr>\n",
              "    <tr>\n",
              "      <th>19</th>\n",
              "      <td>Decision Tree</td>\n",
              "      <td>Cross_val</td>\n",
              "      <td>0.738285</td>\n",
              "    </tr>\n",
              "    <tr>\n",
              "      <th>20</th>\n",
              "      <td>Random Forest</td>\n",
              "      <td>Cross_val</td>\n",
              "      <td>0.753850</td>\n",
              "    </tr>\n",
              "    <tr>\n",
              "      <th>21</th>\n",
              "      <td>Adaboost</td>\n",
              "      <td>Cross_val</td>\n",
              "      <td>0.753224</td>\n",
              "    </tr>\n",
              "    <tr>\n",
              "      <th>22</th>\n",
              "      <td>Gradient Boosting</td>\n",
              "      <td>Cross_val</td>\n",
              "      <td>0.764023</td>\n",
              "    </tr>\n",
              "    <tr>\n",
              "      <th>23</th>\n",
              "      <td>XGB</td>\n",
              "      <td>Cross_val</td>\n",
              "      <td>0.773285</td>\n",
              "    </tr>\n",
              "    <tr>\n",
              "      <th>24</th>\n",
              "      <td>Logistic Regression</td>\n",
              "      <td>Test F1</td>\n",
              "      <td>0.690265</td>\n",
              "    </tr>\n",
              "    <tr>\n",
              "      <th>25</th>\n",
              "      <td>KNN</td>\n",
              "      <td>Test F1</td>\n",
              "      <td>0.637931</td>\n",
              "    </tr>\n",
              "    <tr>\n",
              "      <th>26</th>\n",
              "      <td>SVM</td>\n",
              "      <td>Test F1</td>\n",
              "      <td>0.660714</td>\n",
              "    </tr>\n",
              "    <tr>\n",
              "      <th>27</th>\n",
              "      <td>Decision Tree</td>\n",
              "      <td>Test F1</td>\n",
              "      <td>0.615385</td>\n",
              "    </tr>\n",
              "    <tr>\n",
              "      <th>28</th>\n",
              "      <td>Random Forest</td>\n",
              "      <td>Test F1</td>\n",
              "      <td>0.703704</td>\n",
              "    </tr>\n",
              "    <tr>\n",
              "      <th>29</th>\n",
              "      <td>Adaboost</td>\n",
              "      <td>Test F1</td>\n",
              "      <td>0.690265</td>\n",
              "    </tr>\n",
              "    <tr>\n",
              "      <th>30</th>\n",
              "      <td>Gradient Boosting</td>\n",
              "      <td>Test F1</td>\n",
              "      <td>0.725490</td>\n",
              "    </tr>\n",
              "    <tr>\n",
              "      <th>31</th>\n",
              "      <td>XGB</td>\n",
              "      <td>Test F1</td>\n",
              "      <td>0.699029</td>\n",
              "    </tr>\n",
              "  </tbody>\n",
              "</table>\n",
              "</div>"
            ],
            "text/plain": [
              "                  Model          Set  F1 Score\n",
              "0   Logistic Regression  Training F1  0.777273\n",
              "1                   KNN  Training F1  0.823529\n",
              "2                   SVM  Training F1  0.742729\n",
              "3         Decision Tree  Training F1  0.816327\n",
              "4         Random Forest  Training F1  0.862559\n",
              "5              Adaboost  Training F1  0.804348\n",
              "6     Gradient Boosting  Training F1  0.886878\n",
              "7                   XGB  Training F1  0.846154\n",
              "8   Logistic Regression       Dev F1  0.849558\n",
              "9                   KNN       Dev F1  0.735849\n",
              "10                  SVM       Dev F1  0.792793\n",
              "11        Decision Tree       Dev F1  0.785714\n",
              "12        Random Forest       Dev F1  0.822430\n",
              "13             Adaboost       Dev F1  0.796296\n",
              "14    Gradient Boosting       Dev F1  0.818182\n",
              "15                  XGB       Dev F1  0.836364\n",
              "16  Logistic Regression    Cross_val  0.774833\n",
              "17                  KNN    Cross_val  0.617029\n",
              "18                  SVM    Cross_val  0.694941\n",
              "19        Decision Tree    Cross_val  0.738285\n",
              "20        Random Forest    Cross_val  0.753850\n",
              "21             Adaboost    Cross_val  0.753224\n",
              "22    Gradient Boosting    Cross_val  0.764023\n",
              "23                  XGB    Cross_val  0.773285\n",
              "24  Logistic Regression      Test F1  0.690265\n",
              "25                  KNN      Test F1  0.637931\n",
              "26                  SVM      Test F1  0.660714\n",
              "27        Decision Tree      Test F1  0.615385\n",
              "28        Random Forest      Test F1  0.703704\n",
              "29             Adaboost      Test F1  0.690265\n",
              "30    Gradient Boosting      Test F1  0.725490\n",
              "31                  XGB      Test F1  0.699029"
            ]
          },
          "metadata": {
            "tags": []
          },
          "execution_count": 226
        }
      ]
    },
    {
      "metadata": {
        "id": "6cmy4wRJ5w3b",
        "colab_type": "code",
        "outputId": "02d51736-178e-47b1-c7f0-ee0084d59b03",
        "colab": {
          "base_uri": "https://localhost:8080/",
          "height": 517
        }
      },
      "cell_type": "code",
      "source": [
        "sns.set_style(\"whitegrid\", {'grid.linestyle': '--'})\n",
        "fig,ax = plt.subplots(1,1,figsize=(15,8))\n",
        "sns.barplot(x='Model', y='F1 Score', hue='Set', data=df,ax=ax)"
      ],
      "execution_count": 0,
      "outputs": [
        {
          "output_type": "execute_result",
          "data": {
            "text/plain": [
              "<matplotlib.axes._subplots.AxesSubplot at 0x7f54472ed828>"
            ]
          },
          "metadata": {
            "tags": []
          },
          "execution_count": 227
        },
        {
          "output_type": "display_data",
          "data": {
            "image/png": "[encoded data removed]",
            "text/plain": [
              "<Figure size 1080x576 with 1 Axes>"
            ]
          },
          "metadata": {
            "tags": []
          }
        }
      ]
    },
    {
      "metadata": {
        "id": "2cjblb9Kq-P3",
        "colab_type": "text"
      },
      "cell_type": "markdown",
      "source": [
        "**From above barplot we can see that Dev Set Accuracy for Logistic Regression Model is greater than all and Cross val score is almost same for Logistic Regression and XGB**"
      ]
    },
    {
      "metadata": {
        "id": "3UrHV34Jtnk3",
        "colab_type": "text"
      },
      "cell_type": "markdown",
      "source": [
        "**Decision Tree , Random Forest and Bagging Classifier are Overfitting **"
      ]
    },
    {
      "metadata": {
        "id": "BM4ylOKP6Asv",
        "colab_type": "code",
        "outputId": "ea731f2b-29b4-4d37-d674-981f8d7dc5e3",
        "colab": {
          "base_uri": "https://localhost:8080/",
          "height": 221
        }
      },
      "cell_type": "code",
      "source": [
        "# Find Best parameters for Decision Tree\n",
        "from sklearn.tree import DecisionTreeClassifier\n",
        "max_depth = range(1,30)\n",
        "criterion=[\"entropy\", \"gini\"]\n",
        "\n",
        "param = {'max_depth':max_depth,  \n",
        "         'criterion': criterion}\n",
        "grid = GridSearchCV(DecisionTreeClassifier(), \n",
        "                                param_grid = param, \n",
        "                                 verbose=False, \n",
        "                                 cv=StratifiedKFold(n_splits=20, random_state=15, shuffle=True),\n",
        "                                n_jobs = -1)\n",
        "grid.fit(X, y) "
      ],
      "execution_count": 0,
      "outputs": [
        {
          "output_type": "execute_result",
          "data": {
            "text/plain": [
              "GridSearchCV(cv=StratifiedKFold(n_splits=20, random_state=15, shuffle=True),\n",
              "       error_score='raise-deprecating',\n",
              "       estimator=DecisionTreeClassifier(class_weight=None, criterion='gini', max_depth=None,\n",
              "            max_features=None, max_leaf_nodes=None,\n",
              "            min_impurity_decrease=0.0, min_impurity_split=None,\n",
              "            min_samples_leaf=1, min_samples_split=2,\n",
              "            min_weight_fraction_leaf=0.0, presort=False, random_state=None,\n",
              "            splitter='best'),\n",
              "       fit_params=None, iid='warn', n_jobs=-1,\n",
              "       param_grid={'max_depth': range(1, 30), 'criterion': ['entropy', 'gini']},\n",
              "       pre_dispatch='2*n_jobs', refit=True, return_train_score='warn',\n",
              "       scoring=None, verbose=False)"
            ]
          },
          "metadata": {
            "tags": []
          },
          "execution_count": 228
        }
      ]
    },
    {
      "metadata": {
        "id": "WLQniI2xrqOt",
        "colab_type": "code",
        "outputId": "9e05f2ef-a59c-448c-e2b4-996c5c0ee1fd",
        "colab": {
          "base_uri": "https://localhost:8080/",
          "height": 153
        }
      },
      "cell_type": "code",
      "source": [
        "print( grid.best_params_)\n",
        "print (grid.best_score_)\n",
        "print (grid.best_estimator_)"
      ],
      "execution_count": 0,
      "outputs": [
        {
          "output_type": "stream",
          "text": [
            "{'criterion': 'gini', 'max_depth': 5}\n",
            "0.8417508417508418\n",
            "DecisionTreeClassifier(class_weight=None, criterion='gini', max_depth=5,\n",
            "            max_features=None, max_leaf_nodes=None,\n",
            "            min_impurity_decrease=0.0, min_impurity_split=None,\n",
            "            min_samples_leaf=1, min_samples_split=2,\n",
            "            min_weight_fraction_leaf=0.0, presort=False, random_state=None,\n",
            "            splitter='best')\n"
          ],
          "name": "stdout"
        }
      ]
    },
    {
      "metadata": {
        "id": "ionB5W8rsrhW",
        "colab_type": "code",
        "outputId": "0e37ddd6-7146-4781-c863-6b46d69a2a5b",
        "colab": {
          "base_uri": "https://localhost:8080/",
          "height": 275
        }
      },
      "cell_type": "code",
      "source": [
        "# Find Best parameters for Random Forest\n",
        "from sklearn.ensemble import RandomForestClassifier\n",
        "n_estimators = [140,145,150,155,160];\n",
        "max_depth = range(1,10);\n",
        "criterions = ['gini', 'entropy'];\n",
        "cv = StratifiedShuffleSplit(n_splits=10, test_size=.30, random_state=15)\n",
        "\n",
        "\n",
        "parameters = {'n_estimators':n_estimators,\n",
        "              'max_depth':max_depth,\n",
        "              'criterion': criterions\n",
        "              \n",
        "        }\n",
        "grid = GridSearchCV(estimator=RandomForestClassifier(max_features='auto'),\n",
        "                                 param_grid=parameters,\n",
        "                                 cv=cv,\n",
        "                                 n_jobs = -1)\n",
        "grid.fit(X,y) "
      ],
      "execution_count": 0,
      "outputs": [
        {
          "output_type": "execute_result",
          "data": {
            "text/plain": [
              "GridSearchCV(cv=StratifiedShuffleSplit(n_splits=10, random_state=15, test_size=0.3,\n",
              "            train_size=None),\n",
              "       error_score='raise-deprecating',\n",
              "       estimator=RandomForestClassifier(bootstrap=True, class_weight=None, criterion='gini',\n",
              "            max_depth=None, max_features='auto', max_leaf_nodes=None,\n",
              "            min_impurity_decrease=0.0, min_impurity_split=None,\n",
              "            min_samples_leaf=1, min_samples_split=2,\n",
              "            min_weight_fraction_leaf=0.0, n_estimators='warn', n_jobs=None,\n",
              "            oob_score=False, random_state=None, verbose=0,\n",
              "            warm_start=False),\n",
              "       fit_params=None, iid='warn', n_jobs=-1,\n",
              "       param_grid={'n_estimators': [140, 145, 150, 155, 160], 'max_depth': range(1, 10), 'criterion': ['gini', 'entropy']},\n",
              "       pre_dispatch='2*n_jobs', refit=True, return_train_score='warn',\n",
              "       scoring=None, verbose=0)"
            ]
          },
          "metadata": {
            "tags": []
          },
          "execution_count": 230
        }
      ]
    },
    {
      "metadata": {
        "id": "YvYWrQpHuCwM",
        "colab_type": "code",
        "outputId": "60ef19d7-a640-4ecb-e396-b45c178a9661",
        "colab": {
          "base_uri": "https://localhost:8080/",
          "height": 170
        }
      },
      "cell_type": "code",
      "source": [
        "print( grid.best_params_)\n",
        "print (grid.best_score_)\n",
        "print (grid.best_estimator_)"
      ],
      "execution_count": 0,
      "outputs": [
        {
          "output_type": "stream",
          "text": [
            "{'criterion': 'entropy', 'max_depth': 5, 'n_estimators': 155}\n",
            "0.841044776119403\n",
            "RandomForestClassifier(bootstrap=True, class_weight=None, criterion='entropy',\n",
            "            max_depth=5, max_features='auto', max_leaf_nodes=None,\n",
            "            min_impurity_decrease=0.0, min_impurity_split=None,\n",
            "            min_samples_leaf=1, min_samples_split=2,\n",
            "            min_weight_fraction_leaf=0.0, n_estimators=155, n_jobs=None,\n",
            "            oob_score=False, random_state=None, verbose=0,\n",
            "            warm_start=False)\n"
          ],
          "name": "stdout"
        }
      ]
    },
    {
      "metadata": {
        "id": "rzgYUNCMvbTv",
        "colab_type": "text"
      },
      "cell_type": "markdown",
      "source": [
        "### Fine Tune Selected Model"
      ]
    },
    {
      "metadata": {
        "id": "bjLhheu-vyhw",
        "colab_type": "text"
      },
      "cell_type": "markdown",
      "source": [
        ""
      ]
    },
    {
      "metadata": {
        "id": "feqVP1kXvydp",
        "colab_type": "text"
      },
      "cell_type": "markdown",
      "source": [
        "**We Choose Logistic Regression as Final Model** :\n",
        "  * Its not Overfitting unlike XGB\n",
        "  * Maximum Cross_val_score"
      ]
    },
    {
      "metadata": {
        "id": "GYaC5l341XkF",
        "colab_type": "text"
      },
      "cell_type": "markdown",
      "source": [
        "**Gradient Boosting is Working well on Unseen Data than Logistic Regression**"
      ]
    },
    {
      "metadata": {
        "id": "fNcmPVXYuf3V",
        "colab_type": "code",
        "outputId": "34e0e2f7-dbf6-4eaa-c9dd-0972fde841f0",
        "colab": {
          "base_uri": "https://localhost:8080/",
          "height": 204
        }
      },
      "cell_type": "code",
      "source": [
        "# Finding best Parameters for Logistic Regression\n",
        "c = [0.1,0.01,0.001,0.5,1,2,2.5,10,100,1000]\n",
        "cv = StratifiedShuffleSplit(n_splits=10, test_size=.30, random_state=15)\n",
        "\n",
        "\n",
        "parameters = {'C':c\n",
        "              \n",
        "        }\n",
        "grid = GridSearchCV(estimator=LogisticRegression(),\n",
        "                                 param_grid=parameters,\n",
        "                                 cv=cv,\n",
        "                                 n_jobs = -1)\n",
        "grid.fit(X,y) "
      ],
      "execution_count": 0,
      "outputs": [
        {
          "output_type": "execute_result",
          "data": {
            "text/plain": [
              "GridSearchCV(cv=StratifiedShuffleSplit(n_splits=10, random_state=15, test_size=0.3,\n",
              "            train_size=None),\n",
              "       error_score='raise-deprecating',\n",
              "       estimator=LogisticRegression(C=1.0, class_weight=None, dual=False, fit_intercept=True,\n",
              "          intercept_scaling=1, max_iter=100, multi_class='warn',\n",
              "          n_jobs=None, penalty='l2', random_state=None, solver='warn',\n",
              "          tol=0.0001, verbose=0, warm_start=False),\n",
              "       fit_params=None, iid='warn', n_jobs=-1,\n",
              "       param_grid={'C': [0.1, 0.01, 0.001, 0.5, 1, 2, 2.5, 10, 100, 1000]},\n",
              "       pre_dispatch='2*n_jobs', refit=True, return_train_score='warn',\n",
              "       scoring=None, verbose=0)"
            ]
          },
          "metadata": {
            "tags": []
          },
          "execution_count": 232
        }
      ]
    },
    {
      "metadata": {
        "id": "w_sSeIDjvwjx",
        "colab_type": "code",
        "outputId": "8f895dae-c3d4-4e8f-bb2c-e41f4721921d",
        "colab": {
          "base_uri": "https://localhost:8080/",
          "height": 119
        }
      },
      "cell_type": "code",
      "source": [
        "print( grid.best_params_)\n",
        "print (grid.best_score_)\n",
        "print (grid.best_estimator_)"
      ],
      "execution_count": 0,
      "outputs": [
        {
          "output_type": "stream",
          "text": [
            "{'C': 10}\n",
            "0.8361940298507463\n",
            "LogisticRegression(C=10, class_weight=None, dual=False, fit_intercept=True,\n",
            "          intercept_scaling=1, max_iter=100, multi_class='warn',\n",
            "          n_jobs=None, penalty='l2', random_state=None, solver='warn',\n",
            "          tol=0.0001, verbose=0, warm_start=False)\n"
          ],
          "name": "stdout"
        }
      ]
    },
    {
      "metadata": {
        "id": "-Vge63SL2BFg",
        "colab_type": "text"
      },
      "cell_type": "markdown",
      "source": [
        "### Submission"
      ]
    }
  ]
}